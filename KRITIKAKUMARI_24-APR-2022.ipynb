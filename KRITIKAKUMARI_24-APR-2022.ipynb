{
 "cells": [
  {
   "cell_type": "code",
   "execution_count": 1,
   "id": "5f951b1e",
   "metadata": {},
   "outputs": [],
   "source": [
    "import numpy as np\n",
    "import pandas as pd\n",
    "import seaborn as sns\n",
    "from matplotlib import pyplot as plt\n",
    "import scipy.stats as stats\n",
    "%matplotlib inline\n",
    "sns.set(color_codes=True)"
   ]
  },
  {
   "cell_type": "markdown",
   "id": "4fdbbb98",
   "metadata": {},
   "source": [
    "## Problem 1: A wholesale distributor operating in different regions of Portugal has information on annual spending of several items in their stores across different regions and channels. The data consists of 440 large retailers’ annual spending on 6 different varieties of products in 3 different regions (Lisbon, Oporto, Other) and across different sales channel (Hotel, Retail)."
   ]
  },
  {
   "cell_type": "code",
   "execution_count": 2,
   "id": "f24439b5",
   "metadata": {},
   "outputs": [],
   "source": [
    "#Reading the data\n",
    "wholesale=pd.read_csv(\"Wholesale+Customers+Data.csv\")"
   ]
  },
  {
   "cell_type": "code",
   "execution_count": 3,
   "id": "0bde3db9",
   "metadata": {},
   "outputs": [
    {
     "data": {
      "text/html": [
       "<div>\n",
       "<style scoped>\n",
       "    .dataframe tbody tr th:only-of-type {\n",
       "        vertical-align: middle;\n",
       "    }\n",
       "\n",
       "    .dataframe tbody tr th {\n",
       "        vertical-align: top;\n",
       "    }\n",
       "\n",
       "    .dataframe thead th {\n",
       "        text-align: right;\n",
       "    }\n",
       "</style>\n",
       "<table border=\"1\" class=\"dataframe\">\n",
       "  <thead>\n",
       "    <tr style=\"text-align: right;\">\n",
       "      <th></th>\n",
       "      <th>Buyer/Spender</th>\n",
       "      <th>Channel</th>\n",
       "      <th>Region</th>\n",
       "      <th>Fresh</th>\n",
       "      <th>Milk</th>\n",
       "      <th>Grocery</th>\n",
       "      <th>Frozen</th>\n",
       "      <th>Detergents_Paper</th>\n",
       "      <th>Delicatessen</th>\n",
       "    </tr>\n",
       "  </thead>\n",
       "  <tbody>\n",
       "    <tr>\n",
       "      <th>0</th>\n",
       "      <td>1</td>\n",
       "      <td>Retail</td>\n",
       "      <td>Other</td>\n",
       "      <td>12669</td>\n",
       "      <td>9656</td>\n",
       "      <td>7561</td>\n",
       "      <td>214</td>\n",
       "      <td>2674</td>\n",
       "      <td>1338</td>\n",
       "    </tr>\n",
       "    <tr>\n",
       "      <th>1</th>\n",
       "      <td>2</td>\n",
       "      <td>Retail</td>\n",
       "      <td>Other</td>\n",
       "      <td>7057</td>\n",
       "      <td>9810</td>\n",
       "      <td>9568</td>\n",
       "      <td>1762</td>\n",
       "      <td>3293</td>\n",
       "      <td>1776</td>\n",
       "    </tr>\n",
       "    <tr>\n",
       "      <th>2</th>\n",
       "      <td>3</td>\n",
       "      <td>Retail</td>\n",
       "      <td>Other</td>\n",
       "      <td>6353</td>\n",
       "      <td>8808</td>\n",
       "      <td>7684</td>\n",
       "      <td>2405</td>\n",
       "      <td>3516</td>\n",
       "      <td>7844</td>\n",
       "    </tr>\n",
       "    <tr>\n",
       "      <th>3</th>\n",
       "      <td>4</td>\n",
       "      <td>Hotel</td>\n",
       "      <td>Other</td>\n",
       "      <td>13265</td>\n",
       "      <td>1196</td>\n",
       "      <td>4221</td>\n",
       "      <td>6404</td>\n",
       "      <td>507</td>\n",
       "      <td>1788</td>\n",
       "    </tr>\n",
       "    <tr>\n",
       "      <th>4</th>\n",
       "      <td>5</td>\n",
       "      <td>Retail</td>\n",
       "      <td>Other</td>\n",
       "      <td>22615</td>\n",
       "      <td>5410</td>\n",
       "      <td>7198</td>\n",
       "      <td>3915</td>\n",
       "      <td>1777</td>\n",
       "      <td>5185</td>\n",
       "    </tr>\n",
       "  </tbody>\n",
       "</table>\n",
       "</div>"
      ],
      "text/plain": [
       "   Buyer/Spender Channel Region  Fresh  Milk  Grocery  Frozen  \\\n",
       "0              1  Retail  Other  12669  9656     7561     214   \n",
       "1              2  Retail  Other   7057  9810     9568    1762   \n",
       "2              3  Retail  Other   6353  8808     7684    2405   \n",
       "3              4   Hotel  Other  13265  1196     4221    6404   \n",
       "4              5  Retail  Other  22615  5410     7198    3915   \n",
       "\n",
       "   Detergents_Paper  Delicatessen  \n",
       "0              2674          1338  \n",
       "1              3293          1776  \n",
       "2              3516          7844  \n",
       "3               507          1788  \n",
       "4              1777          5185  "
      ]
     },
     "execution_count": 3,
     "metadata": {},
     "output_type": "execute_result"
    }
   ],
   "source": [
    "wholesale.head()"
   ]
  },
  {
   "cell_type": "code",
   "execution_count": 4,
   "id": "af8bc992",
   "metadata": {},
   "outputs": [
    {
     "data": {
      "text/plain": [
       "(440, 9)"
      ]
     },
     "execution_count": 4,
     "metadata": {},
     "output_type": "execute_result"
    }
   ],
   "source": [
    "wholesale.shape"
   ]
  },
  {
   "cell_type": "code",
   "execution_count": 5,
   "id": "f9dbfd6a",
   "metadata": {},
   "outputs": [
    {
     "name": "stdout",
     "output_type": "stream",
     "text": [
      "<class 'pandas.core.frame.DataFrame'>\n",
      "RangeIndex: 440 entries, 0 to 439\n",
      "Data columns (total 9 columns):\n",
      " #   Column            Non-Null Count  Dtype \n",
      "---  ------            --------------  ----- \n",
      " 0   Buyer/Spender     440 non-null    int64 \n",
      " 1   Channel           440 non-null    object\n",
      " 2   Region            440 non-null    object\n",
      " 3   Fresh             440 non-null    int64 \n",
      " 4   Milk              440 non-null    int64 \n",
      " 5   Grocery           440 non-null    int64 \n",
      " 6   Frozen            440 non-null    int64 \n",
      " 7   Detergents_Paper  440 non-null    int64 \n",
      " 8   Delicatessen      440 non-null    int64 \n",
      "dtypes: int64(7), object(2)\n",
      "memory usage: 31.1+ KB\n"
     ]
    }
   ],
   "source": [
    "wholesale.info()"
   ]
  },
  {
   "cell_type": "code",
   "execution_count": 6,
   "id": "e1b6aa46",
   "metadata": {},
   "outputs": [
    {
     "data": {
      "text/plain": [
       "Buyer/Spender       0\n",
       "Channel             0\n",
       "Region              0\n",
       "Fresh               0\n",
       "Milk                0\n",
       "Grocery             0\n",
       "Frozen              0\n",
       "Detergents_Paper    0\n",
       "Delicatessen        0\n",
       "dtype: int64"
      ]
     },
     "execution_count": 6,
     "metadata": {},
     "output_type": "execute_result"
    }
   ],
   "source": [
    "wholesale.isnull().sum()"
   ]
  },
  {
   "cell_type": "markdown",
   "id": "17624881",
   "metadata": {},
   "source": [
    "So the Wholesale Customer Data consists of 440 rows and 9 columns, out of which 2 columns are categorical of object type and the rest are continuous of integer type. There are no null values for any of the columns. So the dataset is clean from that perspective.\n",
    "We have a column Buyer/Spender of continuous type which is not for our use of the analysis. So we are dropping this column."
   ]
  },
  {
   "cell_type": "code",
   "execution_count": 7,
   "id": "ce89a48c",
   "metadata": {},
   "outputs": [],
   "source": [
    "wholesale1=wholesale.drop(['Buyer/Spender'],axis=1)"
   ]
  },
  {
   "cell_type": "code",
   "execution_count": 8,
   "id": "8fedf684",
   "metadata": {},
   "outputs": [
    {
     "data": {
      "text/html": [
       "<div>\n",
       "<style scoped>\n",
       "    .dataframe tbody tr th:only-of-type {\n",
       "        vertical-align: middle;\n",
       "    }\n",
       "\n",
       "    .dataframe tbody tr th {\n",
       "        vertical-align: top;\n",
       "    }\n",
       "\n",
       "    .dataframe thead th {\n",
       "        text-align: right;\n",
       "    }\n",
       "</style>\n",
       "<table border=\"1\" class=\"dataframe\">\n",
       "  <thead>\n",
       "    <tr style=\"text-align: right;\">\n",
       "      <th></th>\n",
       "      <th>Channel</th>\n",
       "      <th>Region</th>\n",
       "      <th>Fresh</th>\n",
       "      <th>Milk</th>\n",
       "      <th>Grocery</th>\n",
       "      <th>Frozen</th>\n",
       "      <th>Detergents_Paper</th>\n",
       "      <th>Delicatessen</th>\n",
       "    </tr>\n",
       "  </thead>\n",
       "  <tbody>\n",
       "    <tr>\n",
       "      <th>0</th>\n",
       "      <td>Retail</td>\n",
       "      <td>Other</td>\n",
       "      <td>12669</td>\n",
       "      <td>9656</td>\n",
       "      <td>7561</td>\n",
       "      <td>214</td>\n",
       "      <td>2674</td>\n",
       "      <td>1338</td>\n",
       "    </tr>\n",
       "    <tr>\n",
       "      <th>1</th>\n",
       "      <td>Retail</td>\n",
       "      <td>Other</td>\n",
       "      <td>7057</td>\n",
       "      <td>9810</td>\n",
       "      <td>9568</td>\n",
       "      <td>1762</td>\n",
       "      <td>3293</td>\n",
       "      <td>1776</td>\n",
       "    </tr>\n",
       "    <tr>\n",
       "      <th>2</th>\n",
       "      <td>Retail</td>\n",
       "      <td>Other</td>\n",
       "      <td>6353</td>\n",
       "      <td>8808</td>\n",
       "      <td>7684</td>\n",
       "      <td>2405</td>\n",
       "      <td>3516</td>\n",
       "      <td>7844</td>\n",
       "    </tr>\n",
       "    <tr>\n",
       "      <th>3</th>\n",
       "      <td>Hotel</td>\n",
       "      <td>Other</td>\n",
       "      <td>13265</td>\n",
       "      <td>1196</td>\n",
       "      <td>4221</td>\n",
       "      <td>6404</td>\n",
       "      <td>507</td>\n",
       "      <td>1788</td>\n",
       "    </tr>\n",
       "    <tr>\n",
       "      <th>4</th>\n",
       "      <td>Retail</td>\n",
       "      <td>Other</td>\n",
       "      <td>22615</td>\n",
       "      <td>5410</td>\n",
       "      <td>7198</td>\n",
       "      <td>3915</td>\n",
       "      <td>1777</td>\n",
       "      <td>5185</td>\n",
       "    </tr>\n",
       "  </tbody>\n",
       "</table>\n",
       "</div>"
      ],
      "text/plain": [
       "  Channel Region  Fresh  Milk  Grocery  Frozen  Detergents_Paper  Delicatessen\n",
       "0  Retail  Other  12669  9656     7561     214              2674          1338\n",
       "1  Retail  Other   7057  9810     9568    1762              3293          1776\n",
       "2  Retail  Other   6353  8808     7684    2405              3516          7844\n",
       "3   Hotel  Other  13265  1196     4221    6404               507          1788\n",
       "4  Retail  Other  22615  5410     7198    3915              1777          5185"
      ]
     },
     "execution_count": 8,
     "metadata": {},
     "output_type": "execute_result"
    }
   ],
   "source": [
    "wholesale1.head()"
   ]
  },
  {
   "cell_type": "markdown",
   "id": "27960cb8",
   "metadata": {},
   "source": [
    "## 1.1 Use methods of descriptive statistics to summarize data. "
   ]
  },
  {
   "cell_type": "code",
   "execution_count": 9,
   "id": "c64dd4be",
   "metadata": {},
   "outputs": [
    {
     "data": {
      "text/html": [
       "<div>\n",
       "<style scoped>\n",
       "    .dataframe tbody tr th:only-of-type {\n",
       "        vertical-align: middle;\n",
       "    }\n",
       "\n",
       "    .dataframe tbody tr th {\n",
       "        vertical-align: top;\n",
       "    }\n",
       "\n",
       "    .dataframe thead th {\n",
       "        text-align: right;\n",
       "    }\n",
       "</style>\n",
       "<table border=\"1\" class=\"dataframe\">\n",
       "  <thead>\n",
       "    <tr style=\"text-align: right;\">\n",
       "      <th></th>\n",
       "      <th>count</th>\n",
       "      <th>unique</th>\n",
       "      <th>top</th>\n",
       "      <th>freq</th>\n",
       "      <th>mean</th>\n",
       "      <th>std</th>\n",
       "      <th>min</th>\n",
       "      <th>25%</th>\n",
       "      <th>50%</th>\n",
       "      <th>75%</th>\n",
       "      <th>max</th>\n",
       "    </tr>\n",
       "  </thead>\n",
       "  <tbody>\n",
       "    <tr>\n",
       "      <th>Channel</th>\n",
       "      <td>440</td>\n",
       "      <td>2</td>\n",
       "      <td>Hotel</td>\n",
       "      <td>298</td>\n",
       "      <td>NaN</td>\n",
       "      <td>NaN</td>\n",
       "      <td>NaN</td>\n",
       "      <td>NaN</td>\n",
       "      <td>NaN</td>\n",
       "      <td>NaN</td>\n",
       "      <td>NaN</td>\n",
       "    </tr>\n",
       "    <tr>\n",
       "      <th>Region</th>\n",
       "      <td>440</td>\n",
       "      <td>3</td>\n",
       "      <td>Other</td>\n",
       "      <td>316</td>\n",
       "      <td>NaN</td>\n",
       "      <td>NaN</td>\n",
       "      <td>NaN</td>\n",
       "      <td>NaN</td>\n",
       "      <td>NaN</td>\n",
       "      <td>NaN</td>\n",
       "      <td>NaN</td>\n",
       "    </tr>\n",
       "    <tr>\n",
       "      <th>Fresh</th>\n",
       "      <td>440.0</td>\n",
       "      <td>NaN</td>\n",
       "      <td>NaN</td>\n",
       "      <td>NaN</td>\n",
       "      <td>12000.297727</td>\n",
       "      <td>12647.328865</td>\n",
       "      <td>3.0</td>\n",
       "      <td>3127.75</td>\n",
       "      <td>8504.0</td>\n",
       "      <td>16933.75</td>\n",
       "      <td>112151.0</td>\n",
       "    </tr>\n",
       "    <tr>\n",
       "      <th>Milk</th>\n",
       "      <td>440.0</td>\n",
       "      <td>NaN</td>\n",
       "      <td>NaN</td>\n",
       "      <td>NaN</td>\n",
       "      <td>5796.265909</td>\n",
       "      <td>7380.377175</td>\n",
       "      <td>55.0</td>\n",
       "      <td>1533.0</td>\n",
       "      <td>3627.0</td>\n",
       "      <td>7190.25</td>\n",
       "      <td>73498.0</td>\n",
       "    </tr>\n",
       "    <tr>\n",
       "      <th>Grocery</th>\n",
       "      <td>440.0</td>\n",
       "      <td>NaN</td>\n",
       "      <td>NaN</td>\n",
       "      <td>NaN</td>\n",
       "      <td>7951.277273</td>\n",
       "      <td>9503.162829</td>\n",
       "      <td>3.0</td>\n",
       "      <td>2153.0</td>\n",
       "      <td>4755.5</td>\n",
       "      <td>10655.75</td>\n",
       "      <td>92780.0</td>\n",
       "    </tr>\n",
       "    <tr>\n",
       "      <th>Frozen</th>\n",
       "      <td>440.0</td>\n",
       "      <td>NaN</td>\n",
       "      <td>NaN</td>\n",
       "      <td>NaN</td>\n",
       "      <td>3071.931818</td>\n",
       "      <td>4854.673333</td>\n",
       "      <td>25.0</td>\n",
       "      <td>742.25</td>\n",
       "      <td>1526.0</td>\n",
       "      <td>3554.25</td>\n",
       "      <td>60869.0</td>\n",
       "    </tr>\n",
       "    <tr>\n",
       "      <th>Detergents_Paper</th>\n",
       "      <td>440.0</td>\n",
       "      <td>NaN</td>\n",
       "      <td>NaN</td>\n",
       "      <td>NaN</td>\n",
       "      <td>2881.493182</td>\n",
       "      <td>4767.854448</td>\n",
       "      <td>3.0</td>\n",
       "      <td>256.75</td>\n",
       "      <td>816.5</td>\n",
       "      <td>3922.0</td>\n",
       "      <td>40827.0</td>\n",
       "    </tr>\n",
       "    <tr>\n",
       "      <th>Delicatessen</th>\n",
       "      <td>440.0</td>\n",
       "      <td>NaN</td>\n",
       "      <td>NaN</td>\n",
       "      <td>NaN</td>\n",
       "      <td>1524.870455</td>\n",
       "      <td>2820.105937</td>\n",
       "      <td>3.0</td>\n",
       "      <td>408.25</td>\n",
       "      <td>965.5</td>\n",
       "      <td>1820.25</td>\n",
       "      <td>47943.0</td>\n",
       "    </tr>\n",
       "  </tbody>\n",
       "</table>\n",
       "</div>"
      ],
      "text/plain": [
       "                  count unique    top freq          mean           std   min  \\\n",
       "Channel             440      2  Hotel  298           NaN           NaN   NaN   \n",
       "Region              440      3  Other  316           NaN           NaN   NaN   \n",
       "Fresh             440.0    NaN    NaN  NaN  12000.297727  12647.328865   3.0   \n",
       "Milk              440.0    NaN    NaN  NaN   5796.265909   7380.377175  55.0   \n",
       "Grocery           440.0    NaN    NaN  NaN   7951.277273   9503.162829   3.0   \n",
       "Frozen            440.0    NaN    NaN  NaN   3071.931818   4854.673333  25.0   \n",
       "Detergents_Paper  440.0    NaN    NaN  NaN   2881.493182   4767.854448   3.0   \n",
       "Delicatessen      440.0    NaN    NaN  NaN   1524.870455   2820.105937   3.0   \n",
       "\n",
       "                      25%     50%       75%       max  \n",
       "Channel               NaN     NaN       NaN       NaN  \n",
       "Region                NaN     NaN       NaN       NaN  \n",
       "Fresh             3127.75  8504.0  16933.75  112151.0  \n",
       "Milk               1533.0  3627.0   7190.25   73498.0  \n",
       "Grocery            2153.0  4755.5  10655.75   92780.0  \n",
       "Frozen             742.25  1526.0   3554.25   60869.0  \n",
       "Detergents_Paper   256.75   816.5    3922.0   40827.0  \n",
       "Delicatessen       408.25   965.5   1820.25   47943.0  "
      ]
     },
     "execution_count": 9,
     "metadata": {},
     "output_type": "execute_result"
    }
   ],
   "source": [
    "wholesale1.describe(include='all').T"
   ]
  },
  {
   "cell_type": "markdown",
   "id": "6f59b6fa",
   "metadata": {},
   "source": [
    "## The wholesale customer data is a dataset which has information of annual spendings in the stores of Portugal across different regions and channels.\n",
    "> ## Channel- It is a categorical variable in the dataset whose domain value consists of Hotel and Retail. It has 440 rows out of which 298 rows have data for transactions in Hotel and the rest rows have data for transactions in Retail.\n",
    "> ## Region- It is a categorical variable in the dataset whose domain value consists of Lisbon, Oporto and Other. It has 440 rows out of which 316 rows have data for transactions in Hotel and the rest rows have data for transactions in Lisbon and Oporto.\n",
    "## There are 6 different varieties of products in these stores which are as follows:-\n",
    "> ## Fresh- This is a continuous variable in the dataset which consists of spending done on Fresh variety of products and has the following characteristics:-\n",
    "> - Mean = 12000.297727\n",
    "> - Standard deviation= 12647.328865\n",
    "> - Minimum = 3.0\n",
    "> - Maximum = 112151.0\n",
    "> - Range = Max - Min = 112148\n",
    "> - Q1= 3127.75\n",
    "> - Q2= 8504.0\n",
    "> - Q3= 16933.75\n",
    "> - Interquartile Range= Q3 - Q1 = 13806\n",
    ">\n",
    "> ## Milk- This is a continuous variable in the dataset which consists of spending done on Milk and has the following characteristics:-\n",
    "> - Mean = 5796.265909\n",
    "> - Standard deviation= 7380.377175\n",
    "> - Minimum = 55.0\n",
    "> - Maximum = 73498.0\n",
    "> - Range = Max - Min = 73443\n",
    "> - Q1= 1533.0\n",
    "> - Q2= 3627.0\n",
    "> - Q3= 7190.25\n",
    "> - Interquartile Range= Q3 - Q1 = 5657.25\n",
    ">\n",
    "> ## Grocery- This is a continuous variable in the dataset which consists of spending done on Grocery items and has the following characteristics:-\n",
    "> - Mean = 7951.277273\n",
    "> - Standard deviation= 9503.162829\n",
    "> - Minimum = 3.0\n",
    "> - Maximum = 92780.0\n",
    "> - Range = Max - Min = 92777.0\n",
    "> - Q1= 2153.0\n",
    "> - Q2= 4755.5\n",
    "> - Q3= 10655.75\n",
    "> - Interquartile Range= Q3 - Q1 = 8502.75\n",
    ">\n",
    "> ## Frozen- This is a continuous variable in the dataset which consists of spending done on Frozen items and has the following characteristics:-\n",
    "> - Mean = 3071.931818\n",
    "> - Standard deviation= 4854.673333\n",
    "> - Minimum = 25.0\n",
    "> - Maximum = 60869.0\n",
    "> - Range = Max - Min = 60844.0\n",
    "> - Q1= 742.25\n",
    "> - Q2= 1526.0\n",
    "> - Q3= 3554.25\n",
    "> - Interquartile Range= Q3 - Q1 = 2812.0\n",
    ">\n",
    "> ## Detergents_Paper- This is a continuous variable in the dataset which consists of spending done on Detergents_Paper and has the following characteristics:-\n",
    "> - Mean = 2881.493182\n",
    "> - Standard deviation= 4767.854448\n",
    "> - Minimum = 3.0\n",
    "> - Maximum = 40827.0\n",
    "> - Range = Max - Min = 60844.0\n",
    "> - Q1= 256.75\n",
    "> - Q2= 816.5\n",
    "> - Q3= 3922.0\n",
    "> - Interquartile Range= Q3 - Q1 = 3665.25\n",
    ">\n",
    "> ## Delicatessen- This is a continuous variable in the dataset which consists of spending done on Delicatessen and has the following characteristics:-\n",
    "> - Mean = 1524.870455\n",
    "> - Standard deviation= 2820.105937\n",
    "> - Minimum = 3.0\n",
    "> - Maximum = 47943.0\n",
    "> - Range = Max - Min = 47940.0\n",
    "> - Q1= 408.25\n",
    "> - Q2= 965.5\n",
    "> - Q3= 1820.25\n",
    "> - Interquartile Range= Q3 - Q1 = 1412.0\n"
   ]
  },
  {
   "cell_type": "markdown",
   "id": "8e10de89",
   "metadata": {},
   "source": [
    "## 1.1 Which Region and which Channel spent the most? Which Region and which Channel spent the least?"
   ]
  },
  {
   "cell_type": "code",
   "execution_count": 12,
   "id": "d5aefb9f",
   "metadata": {},
   "outputs": [],
   "source": [
    "wholesale1['Total Spending']=wholesale1.iloc[:,2:].sum(axis=1)"
   ]
  },
  {
   "cell_type": "code",
   "execution_count": 13,
   "id": "6327bb92",
   "metadata": {},
   "outputs": [
    {
     "data": {
      "text/html": [
       "<div>\n",
       "<style scoped>\n",
       "    .dataframe tbody tr th:only-of-type {\n",
       "        vertical-align: middle;\n",
       "    }\n",
       "\n",
       "    .dataframe tbody tr th {\n",
       "        vertical-align: top;\n",
       "    }\n",
       "\n",
       "    .dataframe thead th {\n",
       "        text-align: right;\n",
       "    }\n",
       "</style>\n",
       "<table border=\"1\" class=\"dataframe\">\n",
       "  <thead>\n",
       "    <tr style=\"text-align: right;\">\n",
       "      <th></th>\n",
       "      <th>Channel</th>\n",
       "      <th>Region</th>\n",
       "      <th>Fresh</th>\n",
       "      <th>Milk</th>\n",
       "      <th>Grocery</th>\n",
       "      <th>Frozen</th>\n",
       "      <th>Detergents_Paper</th>\n",
       "      <th>Delicatessen</th>\n",
       "      <th>Total Spending</th>\n",
       "    </tr>\n",
       "  </thead>\n",
       "  <tbody>\n",
       "    <tr>\n",
       "      <th>0</th>\n",
       "      <td>Retail</td>\n",
       "      <td>Other</td>\n",
       "      <td>12669</td>\n",
       "      <td>9656</td>\n",
       "      <td>7561</td>\n",
       "      <td>214</td>\n",
       "      <td>2674</td>\n",
       "      <td>1338</td>\n",
       "      <td>102336</td>\n",
       "    </tr>\n",
       "    <tr>\n",
       "      <th>1</th>\n",
       "      <td>Retail</td>\n",
       "      <td>Other</td>\n",
       "      <td>7057</td>\n",
       "      <td>9810</td>\n",
       "      <td>9568</td>\n",
       "      <td>1762</td>\n",
       "      <td>3293</td>\n",
       "      <td>1776</td>\n",
       "      <td>99798</td>\n",
       "    </tr>\n",
       "    <tr>\n",
       "      <th>2</th>\n",
       "      <td>Retail</td>\n",
       "      <td>Other</td>\n",
       "      <td>6353</td>\n",
       "      <td>8808</td>\n",
       "      <td>7684</td>\n",
       "      <td>2405</td>\n",
       "      <td>3516</td>\n",
       "      <td>7844</td>\n",
       "      <td>109830</td>\n",
       "    </tr>\n",
       "    <tr>\n",
       "      <th>3</th>\n",
       "      <td>Hotel</td>\n",
       "      <td>Other</td>\n",
       "      <td>13265</td>\n",
       "      <td>1196</td>\n",
       "      <td>4221</td>\n",
       "      <td>6404</td>\n",
       "      <td>507</td>\n",
       "      <td>1788</td>\n",
       "      <td>82143</td>\n",
       "    </tr>\n",
       "    <tr>\n",
       "      <th>4</th>\n",
       "      <td>Retail</td>\n",
       "      <td>Other</td>\n",
       "      <td>22615</td>\n",
       "      <td>5410</td>\n",
       "      <td>7198</td>\n",
       "      <td>3915</td>\n",
       "      <td>1777</td>\n",
       "      <td>5185</td>\n",
       "      <td>138300</td>\n",
       "    </tr>\n",
       "  </tbody>\n",
       "</table>\n",
       "</div>"
      ],
      "text/plain": [
       "  Channel Region  Fresh  Milk  Grocery  Frozen  Detergents_Paper  \\\n",
       "0  Retail  Other  12669  9656     7561     214              2674   \n",
       "1  Retail  Other   7057  9810     9568    1762              3293   \n",
       "2  Retail  Other   6353  8808     7684    2405              3516   \n",
       "3   Hotel  Other  13265  1196     4221    6404               507   \n",
       "4  Retail  Other  22615  5410     7198    3915              1777   \n",
       "\n",
       "   Delicatessen  Total Spending  \n",
       "0          1338          102336  \n",
       "1          1776           99798  \n",
       "2          7844          109830  \n",
       "3          1788           82143  \n",
       "4          5185          138300  "
      ]
     },
     "execution_count": 13,
     "metadata": {},
     "output_type": "execute_result"
    }
   ],
   "source": [
    "wholesale1.head()"
   ]
  },
  {
   "cell_type": "code",
   "execution_count": 21,
   "id": "789328af",
   "metadata": {},
   "outputs": [
    {
     "data": {
      "text/plain": [
       "Region\n",
       "Oporto     4665264\n",
       "Lisbon     7160439\n",
       "Other     32032797\n",
       "Name: Total Spending, dtype: int64"
      ]
     },
     "execution_count": 21,
     "metadata": {},
     "output_type": "execute_result"
    }
   ],
   "source": [
    "df_region=wholesale1.groupby(by=\"Region\")['Total Spending'].sum().sort_values()\n",
    "df_region"
   ]
  },
  {
   "cell_type": "code",
   "execution_count": 25,
   "id": "9085a7d6",
   "metadata": {},
   "outputs": [
    {
     "data": {
      "text/plain": [
       "Text(0.5, 1.0, 'Total spending per region')"
      ]
     },
     "execution_count": 25,
     "metadata": {},
     "output_type": "execute_result"
    },
    {
     "data": {
      "image/png": "[encoded data removed]",
      "text/plain": [
       "<Figure size 360x360 with 1 Axes>"
      ]
     },
     "metadata": {},
     "output_type": "display_data"
    }
   ],
   "source": [
    "plt.figure(figsize=(5,5))\n",
    "sns.barplot(x=wholesale1['Region'],y=wholesale1['Total Spending'],estimator=np.sum,ci=None)\n",
    "plt.title('Total spending per region')"
   ]
  },
  {
   "cell_type": "code",
   "execution_count": 26,
   "id": "7536e82d",
   "metadata": {},
   "outputs": [
    {
     "data": {
      "text/plain": [
       "Channel\n",
       "Retail    19859793\n",
       "Hotel     23998707\n",
       "Name: Total Spending, dtype: int64"
      ]
     },
     "execution_count": 26,
     "metadata": {},
     "output_type": "execute_result"
    }
   ],
   "source": [
    "df_channel=wholesale1.groupby(by=\"Channel\")['Total Spending'].sum().sort_values()\n",
    "df_channel"
   ]
  },
  {
   "cell_type": "code",
   "execution_count": 27,
   "id": "9170dd55",
   "metadata": {},
   "outputs": [
    {
     "data": {
      "text/plain": [
       "Text(0.5, 1.0, 'Total spending per channel')"
      ]
     },
     "execution_count": 27,
     "metadata": {},
     "output_type": "execute_result"
    },
    {
     "data": {
      "image/png": "[encoded data removed]",
      "text/plain": [
       "<Figure size 360x360 with 1 Axes>"
      ]
     },
     "metadata": {},
     "output_type": "display_data"
    }
   ],
   "source": [
    "plt.figure(figsize=(5,5))\n",
    "sns.barplot(x=wholesale1['Channel'],y=wholesale1['Total Spending'],estimator=np.sum,ci=None)\n",
    "plt.title('Total spending per channel')"
   ]
  },
  {
   "cell_type": "markdown",
   "id": "77008ba6",
   "metadata": {},
   "source": [
    "From the above calculations and plot charts, we can infer that amongst all the regions, Other region has the maximum spending and Oporto has the lowest spending.\n",
    "And, amongst the two channels, Hotel has more spending than Retail."
   ]
  },
  {
   "cell_type": "markdown",
   "id": "a22afc53",
   "metadata": {},
   "source": [
    "## 1.2 There are 6 different varieties of items that are considered. Describe and comment/explain all the varieties across Region and Channel? Provide a detailed justification for your answer."
   ]
  },
  {
   "cell_type": "code",
   "execution_count": 28,
   "id": "8c50c147",
   "metadata": {},
   "outputs": [],
   "source": [
    "df_freshByRegion=wholesale1.groupby(by='Region')['Fresh'].sum()\n",
    "df_freshByRegion1=df_freshByRegion.reset_index()"
   ]
  },
  {
   "cell_type": "code",
   "execution_count": 29,
   "id": "c5b90ebb",
   "metadata": {},
   "outputs": [
    {
     "data": {
      "text/html": [
       "<div>\n",
       "<style scoped>\n",
       "    .dataframe tbody tr th:only-of-type {\n",
       "        vertical-align: middle;\n",
       "    }\n",
       "\n",
       "    .dataframe tbody tr th {\n",
       "        vertical-align: top;\n",
       "    }\n",
       "\n",
       "    .dataframe thead th {\n",
       "        text-align: right;\n",
       "    }\n",
       "</style>\n",
       "<table border=\"1\" class=\"dataframe\">\n",
       "  <thead>\n",
       "    <tr style=\"text-align: right;\">\n",
       "      <th></th>\n",
       "      <th>Region</th>\n",
       "      <th>Fresh</th>\n",
       "    </tr>\n",
       "  </thead>\n",
       "  <tbody>\n",
       "    <tr>\n",
       "      <th>0</th>\n",
       "      <td>Lisbon</td>\n",
       "      <td>854833</td>\n",
       "    </tr>\n",
       "    <tr>\n",
       "      <th>1</th>\n",
       "      <td>Oporto</td>\n",
       "      <td>464721</td>\n",
       "    </tr>\n",
       "    <tr>\n",
       "      <th>2</th>\n",
       "      <td>Other</td>\n",
       "      <td>3960577</td>\n",
       "    </tr>\n",
       "  </tbody>\n",
       "</table>\n",
       "</div>"
      ],
      "text/plain": [
       "   Region    Fresh\n",
       "0  Lisbon   854833\n",
       "1  Oporto   464721\n",
       "2   Other  3960577"
      ]
     },
     "execution_count": 29,
     "metadata": {},
     "output_type": "execute_result"
    }
   ],
   "source": [
    "df_freshByRegion1"
   ]
  },
  {
   "cell_type": "code",
   "execution_count": 32,
   "id": "74de1b01",
   "metadata": {},
   "outputs": [
    {
     "data": {
      "text/plain": [
       "(array([0, 1, 2]),\n",
       " [Text(0, 0, 'Lisbon'), Text(1, 0, 'Oporto'), Text(2, 0, 'Other')])"
      ]
     },
     "execution_count": 32,
     "metadata": {},
     "output_type": "execute_result"
    },
    {
     "data": {
      "image/png": "[encoded data removed]",
      "text/plain": [
       "<Figure size 360x360 with 1 Axes>"
      ]
     },
     "metadata": {},
     "output_type": "display_data"
    }
   ],
   "source": [
    "plt.figure(figsize=(5,5))\n",
    "sns.barplot(x='Region',y='Fresh',data=df_freshByRegion1)\n",
    "plt.xticks(rotation=90)"
   ]
  },
  {
   "cell_type": "code",
   "execution_count": 33,
   "id": "9935021c",
   "metadata": {},
   "outputs": [],
   "source": [
    "df_freshByChannel=wholesale1.groupby(by='Channel')['Fresh'].sum()\n",
    "df_freshByChannel1=df_freshByChannel.reset_index()"
   ]
  },
  {
   "cell_type": "code",
   "execution_count": 34,
   "id": "28e6a013",
   "metadata": {},
   "outputs": [
    {
     "data": {
      "text/plain": [
       "(array([0, 1]), [Text(0, 0, 'Hotel'), Text(1, 0, 'Retail')])"
      ]
     },
     "execution_count": 34,
     "metadata": {},
     "output_type": "execute_result"
    },
    {
     "data": {
      "image/png": "[encoded data removed]",
      "text/plain": [
       "<Figure size 360x360 with 1 Axes>"
      ]
     },
     "metadata": {},
     "output_type": "display_data"
    }
   ],
   "source": [
    "plt.figure(figsize=(5,5))\n",
    "sns.barplot(x='Channel',y='Fresh',data=df_freshByChannel1,estimator=np.sum,ci=None)\n",
    "plt.xticks(rotation=90)"
   ]
  },
  {
   "cell_type": "code",
   "execution_count": 35,
   "id": "6dba2619",
   "metadata": {},
   "outputs": [],
   "source": [
    "df_milkByRegion=wholesale1.groupby(by='Region')['Milk'].sum()\n",
    "df_milkByRegion1=df_milkByRegion.reset_index()"
   ]
  },
  {
   "cell_type": "code",
   "execution_count": 36,
   "id": "2c404504",
   "metadata": {},
   "outputs": [
    {
     "data": {
      "text/plain": [
       "(array([0, 1, 2]),\n",
       " [Text(0, 0, 'Lisbon'), Text(1, 0, 'Oporto'), Text(2, 0, 'Other')])"
      ]
     },
     "execution_count": 36,
     "metadata": {},
     "output_type": "execute_result"
    },
    {
     "data": {
      "image/png": "[encoded data removed]",
      "text/plain": [
       "<Figure size 360x360 with 1 Axes>"
      ]
     },
     "metadata": {},
     "output_type": "display_data"
    }
   ],
   "source": [
    "plt.figure(figsize=(5,5))\n",
    "sns.barplot(x='Region',y='Milk',data=df_milkByRegion1,estimator=np.sum,ci=None)\n",
    "plt.xticks(rotation=90)"
   ]
  },
  {
   "cell_type": "code",
   "execution_count": 37,
   "id": "7354fafd",
   "metadata": {},
   "outputs": [],
   "source": [
    "df_milkByChannel=wholesale1.groupby(by='Channel')['Milk'].sum()\n",
    "df_milkByChannel1=df_milkByChannel.reset_index()"
   ]
  },
  {
   "cell_type": "code",
   "execution_count": 38,
   "id": "03cd9159",
   "metadata": {},
   "outputs": [
    {
     "data": {
      "text/plain": [
       "(array([0, 1]), [Text(0, 0, 'Hotel'), Text(1, 0, 'Retail')])"
      ]
     },
     "execution_count": 38,
     "metadata": {},
     "output_type": "execute_result"
    },
    {
     "data": {
      "image/png": "[encoded data removed]",
      "text/plain": [
       "<Figure size 360x360 with 1 Axes>"
      ]
     },
     "metadata": {},
     "output_type": "display_data"
    }
   ],
   "source": [
    "plt.figure(figsize=(5,5))\n",
    "sns.barplot(x='Channel',y='Milk',data=df_milkByChannel1,estimator=np.sum,ci=None)\n",
    "plt.xticks(rotation=90)"
   ]
  },
  {
   "cell_type": "code",
   "execution_count": 39,
   "id": "5d987809",
   "metadata": {},
   "outputs": [],
   "source": [
    "df_groceryByRegion=wholesale1.groupby(by='Region')['Grocery'].sum()\n",
    "df_groceryByRegion1=df_groceryByRegion.reset_index()"
   ]
  },
  {
   "cell_type": "code",
   "execution_count": 40,
   "id": "0320eaf5",
   "metadata": {},
   "outputs": [
    {
     "data": {
      "text/plain": [
       "(array([0, 1, 2]),\n",
       " [Text(0, 0, 'Lisbon'), Text(1, 0, 'Oporto'), Text(2, 0, 'Other')])"
      ]
     },
     "execution_count": 40,
     "metadata": {},
     "output_type": "execute_result"
    },
    {
     "data": {
      "image/png": "[encoded data removed]",
      "text/plain": [
       "<Figure size 360x360 with 1 Axes>"
      ]
     },
     "metadata": {},
     "output_type": "display_data"
    }
   ],
   "source": [
    "plt.figure(figsize=(5,5))\n",
    "sns.barplot(x='Region',y='Grocery',data=df_groceryByRegion1,estimator=np.sum,ci=None)\n",
    "plt.xticks(rotation=90)"
   ]
  },
  {
   "cell_type": "code",
   "execution_count": 41,
   "id": "dbb4e24c",
   "metadata": {},
   "outputs": [],
   "source": [
    "df_groceryByChannel=wholesale1.groupby(by='Channel')['Grocery'].sum()\n",
    "df_groceryByChannel1=df_groceryByChannel.reset_index()"
   ]
  },
  {
   "cell_type": "code",
   "execution_count": 42,
   "id": "561fd1b1",
   "metadata": {},
   "outputs": [
    {
     "data": {
      "text/plain": [
       "(array([0, 1]), [Text(0, 0, 'Hotel'), Text(1, 0, 'Retail')])"
      ]
     },
     "execution_count": 42,
     "metadata": {},
     "output_type": "execute_result"
    },
    {
     "data": {
      "image/png": "[encoded data removed]",
      "text/plain": [
       "<Figure size 360x360 with 1 Axes>"
      ]
     },
     "metadata": {},
     "output_type": "display_data"
    }
   ],
   "source": [
    "plt.figure(figsize=(5,5))\n",
    "sns.barplot(x='Channel',y='Grocery',data=df_groceryByChannel1,estimator=np.sum,ci=None)\n",
    "plt.xticks(rotation=90)"
   ]
  },
  {
   "cell_type": "code",
   "execution_count": 43,
   "id": "e17c9ac6",
   "metadata": {},
   "outputs": [],
   "source": [
    "df_frozenByRegion=wholesale1.groupby(by='Region')['Frozen'].sum()\n",
    "df_frozenByRegion1=df_frozenByRegion.reset_index()"
   ]
  },
  {
   "cell_type": "code",
   "execution_count": 44,
   "id": "e60afc3b",
   "metadata": {},
   "outputs": [
    {
     "data": {
      "text/plain": [
       "(array([0, 1, 2]),\n",
       " [Text(0, 0, 'Lisbon'), Text(1, 0, 'Oporto'), Text(2, 0, 'Other')])"
      ]
     },
     "execution_count": 44,
     "metadata": {},
     "output_type": "execute_result"
    },
    {
     "data": {
      "image/png": "[encoded data removed]",
      "text/plain": [
       "<Figure size 360x360 with 1 Axes>"
      ]
     },
     "metadata": {},
     "output_type": "display_data"
    }
   ],
   "source": [
    "plt.figure(figsize=(5,5))\n",
    "sns.barplot(x='Region',y='Frozen',data=df_frozenByRegion1,estimator=np.sum,ci=None)\n",
    "plt.xticks(rotation=90)"
   ]
  },
  {
   "cell_type": "code",
   "execution_count": 45,
   "id": "47011c8e",
   "metadata": {},
   "outputs": [],
   "source": [
    "df_frozenByChannel=wholesale1.groupby(by='Channel')['Frozen'].sum()\n",
    "df_frozenByChannel1=df_frozenByChannel.reset_index()"
   ]
  },
  {
   "cell_type": "code",
   "execution_count": 46,
   "id": "d34057f9",
   "metadata": {},
   "outputs": [
    {
     "data": {
      "text/plain": [
       "(array([0, 1]), [Text(0, 0, 'Hotel'), Text(1, 0, 'Retail')])"
      ]
     },
     "execution_count": 46,
     "metadata": {},
     "output_type": "execute_result"
    },
    {
     "data": {
      "image/png": "[encoded data removed]",
      "text/plain": [
       "<Figure size 360x360 with 1 Axes>"
      ]
     },
     "metadata": {},
     "output_type": "display_data"
    }
   ],
   "source": [
    "plt.figure(figsize=(5,5))\n",
    "sns.barplot(x='Channel',y='Frozen',data=df_frozenByChannel1,estimator=np.sum,ci=None)\n",
    "plt.xticks(rotation=90)"
   ]
  },
  {
   "cell_type": "code",
   "execution_count": 47,
   "id": "ce63e89c",
   "metadata": {},
   "outputs": [],
   "source": [
    "df_detByRegion=wholesale1.groupby(by='Region')['Detergents_Paper'].sum()\n",
    "df_detByRegion1=df_detByRegion.reset_index()"
   ]
  },
  {
   "cell_type": "code",
   "execution_count": 48,
   "id": "68026986",
   "metadata": {},
   "outputs": [
    {
     "data": {
      "text/plain": [
       "(array([0, 1, 2]),\n",
       " [Text(0, 0, 'Lisbon'), Text(1, 0, 'Oporto'), Text(2, 0, 'Other')])"
      ]
     },
     "execution_count": 48,
     "metadata": {},
     "output_type": "execute_result"
    },
    {
     "data": {
      "image/png": "[encoded data removed]",
      "text/plain": [
       "<Figure size 360x360 with 1 Axes>"
      ]
     },
     "metadata": {},
     "output_type": "display_data"
    }
   ],
   "source": [
    "plt.figure(figsize=(5,5))\n",
    "sns.barplot(x='Region',y='Detergents_Paper',data=df_detByRegion1,estimator=np.sum,ci=None)\n",
    "plt.xticks(rotation=90)"
   ]
  },
  {
   "cell_type": "code",
   "execution_count": 49,
   "id": "c14b0a3a",
   "metadata": {},
   "outputs": [],
   "source": [
    "df_detByChannel=wholesale1.groupby(by='Channel')['Detergents_Paper'].sum()\n",
    "df_detByChannel1=df_detByChannel.reset_index()"
   ]
  },
  {
   "cell_type": "code",
   "execution_count": 50,
   "id": "bdb62d37",
   "metadata": {},
   "outputs": [
    {
     "data": {
      "text/plain": [
       "(array([0, 1]), [Text(0, 0, 'Hotel'), Text(1, 0, 'Retail')])"
      ]
     },
     "execution_count": 50,
     "metadata": {},
     "output_type": "execute_result"
    },
    {
     "data": {
      "image/png": "[encoded data removed]",
      "text/plain": [
       "<Figure size 360x360 with 1 Axes>"
      ]
     },
     "metadata": {},
     "output_type": "display_data"
    }
   ],
   "source": [
    "plt.figure(figsize=(5,5))\n",
    "sns.barplot(x='Channel',y='Detergents_Paper',data=df_detByChannel1,estimator=np.sum,ci=None)\n",
    "plt.xticks(rotation=90)"
   ]
  },
  {
   "cell_type": "code",
   "execution_count": 51,
   "id": "0b21fae3",
   "metadata": {},
   "outputs": [],
   "source": [
    "df_delicatessenByRegion=wholesale1.groupby(by='Region')['Delicatessen'].sum()\n",
    "df_delicatessenByRegion1=df_delicatessenByRegion.reset_index()"
   ]
  },
  {
   "cell_type": "code",
   "execution_count": 52,
   "id": "8ecb1bda",
   "metadata": {},
   "outputs": [
    {
     "data": {
      "text/plain": [
       "(array([0, 1, 2]),\n",
       " [Text(0, 0, 'Lisbon'), Text(1, 0, 'Oporto'), Text(2, 0, 'Other')])"
      ]
     },
     "execution_count": 52,
     "metadata": {},
     "output_type": "execute_result"
    },
    {
     "data": {
      "image/png": "[encoded data removed]",
      "text/plain": [
       "<Figure size 360x360 with 1 Axes>"
      ]
     },
     "metadata": {},
     "output_type": "display_data"
    }
   ],
   "source": [
    "plt.figure(figsize=(5,5))\n",
    "sns.barplot(x='Region',y='Delicatessen',data=df_delicatessenByRegion1,estimator=np.sum,ci=None)\n",
    "plt.xticks(rotation=90)"
   ]
  },
  {
   "cell_type": "code",
   "execution_count": 53,
   "id": "89b60218",
   "metadata": {},
   "outputs": [],
   "source": [
    "df_delicatessenByChannel=wholesale1.groupby(by='Channel')['Delicatessen'].sum()\n",
    "df_delicatessenByChannel1=df_delicatessenByChannel.reset_index()"
   ]
  },
  {
   "cell_type": "code",
   "execution_count": 54,
   "id": "cf9017b9",
   "metadata": {},
   "outputs": [
    {
     "data": {
      "text/plain": [
       "(array([0, 1]), [Text(0, 0, 'Hotel'), Text(1, 0, 'Retail')])"
      ]
     },
     "execution_count": 54,
     "metadata": {},
     "output_type": "execute_result"
    },
    {
     "data": {
      "image/png": "[encoded data removed]",
      "text/plain": [
       "<Figure size 360x360 with 1 Axes>"
      ]
     },
     "metadata": {},
     "output_type": "display_data"
    }
   ],
   "source": [
    "plt.figure(figsize=(5,5))\n",
    "sns.barplot(x='Channel',y='Delicatessen',data=df_delicatessenByChannel1,estimator=np.sum,ci=None)\n",
    "plt.xticks(rotation=90)"
   ]
  },
  {
   "cell_type": "markdown",
   "id": "fc3eec9a",
   "metadata": {},
   "source": [
    "## As per the above charts we can infer the following points:-\n",
    "> ## Fresh-\n",
    "The spending on fresh product is the most in Other region and least in Oporto region.\n",
    "The spending on fresh product is more in Hotel than in Retail.\n",
    "> ## Milk-\n",
    "The spending on milk is the most in Other region and least in Oporto region.\n",
    "The spending on milk product is more in Retail than in Hotel\n",
    "> ## Grocery-\n",
    "The spending on grocery items is the most in Other region and least in Oporto region.\n",
    "The spending on grocery items is more in Retail than in Hotel.\n",
    "> ## Frozen-\n",
    "The spending on frozen items is the most in Other region and least in Oporto region.\n",
    "The spending on frozen items is more in Hotel than in Retail.\n",
    "> ## Detergents_Paper-\n",
    "The spending on Detergents_Paper items is the most in Other region and least in Oporto region.\n",
    "The spending on Detergents_Paper items is more in Retail than in Hotel.\n",
    "> ## Delicatessen-\n",
    "The spending on delicatessen items is the most in Other region and least in Oporto region.\n",
    "The spending on delicatessen items is more in Hotel than in Retail."
   ]
  },
  {
   "cell_type": "code",
   "execution_count": 55,
   "id": "fe0b57d1",
   "metadata": {},
   "outputs": [
    {
     "data": {
      "text/html": [
       "<div>\n",
       "<style scoped>\n",
       "    .dataframe tbody tr th:only-of-type {\n",
       "        vertical-align: middle;\n",
       "    }\n",
       "\n",
       "    .dataframe tbody tr th {\n",
       "        vertical-align: top;\n",
       "    }\n",
       "\n",
       "    .dataframe thead th {\n",
       "        text-align: right;\n",
       "    }\n",
       "</style>\n",
       "<table border=\"1\" class=\"dataframe\">\n",
       "  <thead>\n",
       "    <tr style=\"text-align: right;\">\n",
       "      <th></th>\n",
       "      <th>Fresh</th>\n",
       "      <th>Milk</th>\n",
       "      <th>Grocery</th>\n",
       "      <th>Frozen</th>\n",
       "      <th>Detergents_Paper</th>\n",
       "      <th>Delicatessen</th>\n",
       "      <th>Total Spending</th>\n",
       "    </tr>\n",
       "  </thead>\n",
       "  <tbody>\n",
       "    <tr>\n",
       "      <th>count</th>\n",
       "      <td>298.000000</td>\n",
       "      <td>298.000000</td>\n",
       "      <td>298.000000</td>\n",
       "      <td>298.000000</td>\n",
       "      <td>298.000000</td>\n",
       "      <td>298.000000</td>\n",
       "      <td>298.000000</td>\n",
       "    </tr>\n",
       "    <tr>\n",
       "      <th>mean</th>\n",
       "      <td>13475.560403</td>\n",
       "      <td>3451.724832</td>\n",
       "      <td>3962.137584</td>\n",
       "      <td>3748.251678</td>\n",
       "      <td>790.560403</td>\n",
       "      <td>1415.956376</td>\n",
       "      <td>80532.573826</td>\n",
       "    </tr>\n",
       "    <tr>\n",
       "      <th>std</th>\n",
       "      <td>13831.687502</td>\n",
       "      <td>4352.165571</td>\n",
       "      <td>3545.513391</td>\n",
       "      <td>5643.912500</td>\n",
       "      <td>1104.093673</td>\n",
       "      <td>3147.426922</td>\n",
       "      <td>66494.517219</td>\n",
       "    </tr>\n",
       "    <tr>\n",
       "      <th>min</th>\n",
       "      <td>3.000000</td>\n",
       "      <td>55.000000</td>\n",
       "      <td>3.000000</td>\n",
       "      <td>25.000000</td>\n",
       "      <td>3.000000</td>\n",
       "      <td>3.000000</td>\n",
       "      <td>2712.000000</td>\n",
       "    </tr>\n",
       "    <tr>\n",
       "      <th>25%</th>\n",
       "      <td>4070.250000</td>\n",
       "      <td>1164.500000</td>\n",
       "      <td>1703.750000</td>\n",
       "      <td>830.000000</td>\n",
       "      <td>183.250000</td>\n",
       "      <td>379.000000</td>\n",
       "      <td>41577.750000</td>\n",
       "    </tr>\n",
       "    <tr>\n",
       "      <th>50%</th>\n",
       "      <td>9581.500000</td>\n",
       "      <td>2157.000000</td>\n",
       "      <td>2684.000000</td>\n",
       "      <td>2057.500000</td>\n",
       "      <td>385.500000</td>\n",
       "      <td>821.000000</td>\n",
       "      <td>63763.500000</td>\n",
       "    </tr>\n",
       "    <tr>\n",
       "      <th>75%</th>\n",
       "      <td>18274.750000</td>\n",
       "      <td>4029.500000</td>\n",
       "      <td>5076.750000</td>\n",
       "      <td>4558.750000</td>\n",
       "      <td>899.500000</td>\n",
       "      <td>1548.000000</td>\n",
       "      <td>96341.250000</td>\n",
       "    </tr>\n",
       "    <tr>\n",
       "      <th>max</th>\n",
       "      <td>112151.000000</td>\n",
       "      <td>43950.000000</td>\n",
       "      <td>21042.000000</td>\n",
       "      <td>60869.000000</td>\n",
       "      <td>6907.000000</td>\n",
       "      <td>47943.000000</td>\n",
       "      <td>570507.000000</td>\n",
       "    </tr>\n",
       "  </tbody>\n",
       "</table>\n",
       "</div>"
      ],
      "text/plain": [
       "               Fresh          Milk       Grocery        Frozen  \\\n",
       "count     298.000000    298.000000    298.000000    298.000000   \n",
       "mean    13475.560403   3451.724832   3962.137584   3748.251678   \n",
       "std     13831.687502   4352.165571   3545.513391   5643.912500   \n",
       "min         3.000000     55.000000      3.000000     25.000000   \n",
       "25%      4070.250000   1164.500000   1703.750000    830.000000   \n",
       "50%      9581.500000   2157.000000   2684.000000   2057.500000   \n",
       "75%     18274.750000   4029.500000   5076.750000   4558.750000   \n",
       "max    112151.000000  43950.000000  21042.000000  60869.000000   \n",
       "\n",
       "       Detergents_Paper  Delicatessen  Total Spending  \n",
       "count        298.000000    298.000000      298.000000  \n",
       "mean         790.560403   1415.956376    80532.573826  \n",
       "std         1104.093673   3147.426922    66494.517219  \n",
       "min            3.000000      3.000000     2712.000000  \n",
       "25%          183.250000    379.000000    41577.750000  \n",
       "50%          385.500000    821.000000    63763.500000  \n",
       "75%          899.500000   1548.000000    96341.250000  \n",
       "max         6907.000000  47943.000000   570507.000000  "
      ]
     },
     "execution_count": 55,
     "metadata": {},
     "output_type": "execute_result"
    }
   ],
   "source": [
    "channel_df=wholesale1[wholesale1['Channel']=='Hotel']\n",
    "channel_df.describe()"
   ]
  },
  {
   "cell_type": "markdown",
   "id": "d94544bc",
   "metadata": {},
   "source": [
    "From the above statistics, we can see that for Hotel channel the average spending is highest for Fresh product and the standard deviation is also the highest for Fresh.\n",
    "Detergents_Paper has the lowest spending."
   ]
  },
  {
   "cell_type": "code",
   "execution_count": 56,
   "id": "04146008",
   "metadata": {},
   "outputs": [
    {
     "data": {
      "text/html": [
       "<div>\n",
       "<style scoped>\n",
       "    .dataframe tbody tr th:only-of-type {\n",
       "        vertical-align: middle;\n",
       "    }\n",
       "\n",
       "    .dataframe tbody tr th {\n",
       "        vertical-align: top;\n",
       "    }\n",
       "\n",
       "    .dataframe thead th {\n",
       "        text-align: right;\n",
       "    }\n",
       "</style>\n",
       "<table border=\"1\" class=\"dataframe\">\n",
       "  <thead>\n",
       "    <tr style=\"text-align: right;\">\n",
       "      <th></th>\n",
       "      <th>Fresh</th>\n",
       "      <th>Milk</th>\n",
       "      <th>Grocery</th>\n",
       "      <th>Frozen</th>\n",
       "      <th>Detergents_Paper</th>\n",
       "      <th>Delicatessen</th>\n",
       "      <th>Total Spending</th>\n",
       "    </tr>\n",
       "  </thead>\n",
       "  <tbody>\n",
       "    <tr>\n",
       "      <th>count</th>\n",
       "      <td>142.000000</td>\n",
       "      <td>142.000000</td>\n",
       "      <td>142.000000</td>\n",
       "      <td>142.000000</td>\n",
       "      <td>142.000000</td>\n",
       "      <td>142.000000</td>\n",
       "      <td>142.000000</td>\n",
       "    </tr>\n",
       "    <tr>\n",
       "      <th>mean</th>\n",
       "      <td>8904.323944</td>\n",
       "      <td>10716.500000</td>\n",
       "      <td>16322.852113</td>\n",
       "      <td>1652.612676</td>\n",
       "      <td>7269.507042</td>\n",
       "      <td>1753.436620</td>\n",
       "      <td>139857.697183</td>\n",
       "    </tr>\n",
       "    <tr>\n",
       "      <th>std</th>\n",
       "      <td>8987.714750</td>\n",
       "      <td>9679.631351</td>\n",
       "      <td>12267.318094</td>\n",
       "      <td>1812.803662</td>\n",
       "      <td>6291.089697</td>\n",
       "      <td>1953.797047</td>\n",
       "      <td>88040.599472</td>\n",
       "    </tr>\n",
       "    <tr>\n",
       "      <th>min</th>\n",
       "      <td>18.000000</td>\n",
       "      <td>928.000000</td>\n",
       "      <td>2743.000000</td>\n",
       "      <td>33.000000</td>\n",
       "      <td>332.000000</td>\n",
       "      <td>3.000000</td>\n",
       "      <td>44979.000000</td>\n",
       "    </tr>\n",
       "    <tr>\n",
       "      <th>25%</th>\n",
       "      <td>2347.750000</td>\n",
       "      <td>5938.000000</td>\n",
       "      <td>9245.250000</td>\n",
       "      <td>534.250000</td>\n",
       "      <td>3683.500000</td>\n",
       "      <td>566.750000</td>\n",
       "      <td>90441.750000</td>\n",
       "    </tr>\n",
       "    <tr>\n",
       "      <th>50%</th>\n",
       "      <td>5993.500000</td>\n",
       "      <td>7812.000000</td>\n",
       "      <td>12390.000000</td>\n",
       "      <td>1081.000000</td>\n",
       "      <td>5614.500000</td>\n",
       "      <td>1350.000000</td>\n",
       "      <td>111417.000000</td>\n",
       "    </tr>\n",
       "    <tr>\n",
       "      <th>75%</th>\n",
       "      <td>12229.750000</td>\n",
       "      <td>12162.750000</td>\n",
       "      <td>20183.500000</td>\n",
       "      <td>2146.750000</td>\n",
       "      <td>8662.500000</td>\n",
       "      <td>2156.000000</td>\n",
       "      <td>154951.500000</td>\n",
       "    </tr>\n",
       "    <tr>\n",
       "      <th>max</th>\n",
       "      <td>44466.000000</td>\n",
       "      <td>73498.000000</td>\n",
       "      <td>92780.000000</td>\n",
       "      <td>11559.000000</td>\n",
       "      <td>40827.000000</td>\n",
       "      <td>16523.000000</td>\n",
       "      <td>599673.000000</td>\n",
       "    </tr>\n",
       "  </tbody>\n",
       "</table>\n",
       "</div>"
      ],
      "text/plain": [
       "              Fresh          Milk       Grocery        Frozen  \\\n",
       "count    142.000000    142.000000    142.000000    142.000000   \n",
       "mean    8904.323944  10716.500000  16322.852113   1652.612676   \n",
       "std     8987.714750   9679.631351  12267.318094   1812.803662   \n",
       "min       18.000000    928.000000   2743.000000     33.000000   \n",
       "25%     2347.750000   5938.000000   9245.250000    534.250000   \n",
       "50%     5993.500000   7812.000000  12390.000000   1081.000000   \n",
       "75%    12229.750000  12162.750000  20183.500000   2146.750000   \n",
       "max    44466.000000  73498.000000  92780.000000  11559.000000   \n",
       "\n",
       "       Detergents_Paper  Delicatessen  Total Spending  \n",
       "count        142.000000    142.000000      142.000000  \n",
       "mean        7269.507042   1753.436620   139857.697183  \n",
       "std         6291.089697   1953.797047    88040.599472  \n",
       "min          332.000000      3.000000    44979.000000  \n",
       "25%         3683.500000    566.750000    90441.750000  \n",
       "50%         5614.500000   1350.000000   111417.000000  \n",
       "75%         8662.500000   2156.000000   154951.500000  \n",
       "max        40827.000000  16523.000000   599673.000000  "
      ]
     },
     "execution_count": 56,
     "metadata": {},
     "output_type": "execute_result"
    }
   ],
   "source": [
    "channel_df=wholesale1[wholesale1['Channel']=='Retail']\n",
    "channel_df.describe()"
   ]
  },
  {
   "cell_type": "markdown",
   "id": "a389bf7d",
   "metadata": {},
   "source": [
    "From the above statistics, we can see that for Retail channel the average spending is highest for Grocery product and the standard deviation is also the highest for Grocery.\n",
    "Frozen has the lowest spending."
   ]
  },
  {
   "cell_type": "code",
   "execution_count": 57,
   "id": "ec0163e5",
   "metadata": {},
   "outputs": [
    {
     "data": {
      "text/html": [
       "<div>\n",
       "<style scoped>\n",
       "    .dataframe tbody tr th:only-of-type {\n",
       "        vertical-align: middle;\n",
       "    }\n",
       "\n",
       "    .dataframe tbody tr th {\n",
       "        vertical-align: top;\n",
       "    }\n",
       "\n",
       "    .dataframe thead th {\n",
       "        text-align: right;\n",
       "    }\n",
       "</style>\n",
       "<table border=\"1\" class=\"dataframe\">\n",
       "  <thead>\n",
       "    <tr style=\"text-align: right;\">\n",
       "      <th></th>\n",
       "      <th>Fresh</th>\n",
       "      <th>Milk</th>\n",
       "      <th>Grocery</th>\n",
       "      <th>Frozen</th>\n",
       "      <th>Detergents_Paper</th>\n",
       "      <th>Delicatessen</th>\n",
       "      <th>Total Spending</th>\n",
       "    </tr>\n",
       "  </thead>\n",
       "  <tbody>\n",
       "    <tr>\n",
       "      <th>count</th>\n",
       "      <td>77.000000</td>\n",
       "      <td>77.000000</td>\n",
       "      <td>77.000000</td>\n",
       "      <td>77.000000</td>\n",
       "      <td>77.000000</td>\n",
       "      <td>77.000000</td>\n",
       "      <td>77.000000</td>\n",
       "    </tr>\n",
       "    <tr>\n",
       "      <th>mean</th>\n",
       "      <td>11101.727273</td>\n",
       "      <td>5486.415584</td>\n",
       "      <td>7403.077922</td>\n",
       "      <td>3000.337662</td>\n",
       "      <td>2651.116883</td>\n",
       "      <td>1354.896104</td>\n",
       "      <td>92992.714286</td>\n",
       "    </tr>\n",
       "    <tr>\n",
       "      <th>std</th>\n",
       "      <td>11557.438575</td>\n",
       "      <td>5704.856079</td>\n",
       "      <td>8496.287728</td>\n",
       "      <td>3092.143894</td>\n",
       "      <td>4208.462708</td>\n",
       "      <td>1345.423340</td>\n",
       "      <td>60965.441320</td>\n",
       "    </tr>\n",
       "    <tr>\n",
       "      <th>min</th>\n",
       "      <td>18.000000</td>\n",
       "      <td>258.000000</td>\n",
       "      <td>489.000000</td>\n",
       "      <td>61.000000</td>\n",
       "      <td>5.000000</td>\n",
       "      <td>7.000000</td>\n",
       "      <td>14775.000000</td>\n",
       "    </tr>\n",
       "    <tr>\n",
       "      <th>25%</th>\n",
       "      <td>2806.000000</td>\n",
       "      <td>1372.000000</td>\n",
       "      <td>2046.000000</td>\n",
       "      <td>950.000000</td>\n",
       "      <td>284.000000</td>\n",
       "      <td>548.000000</td>\n",
       "      <td>51552.000000</td>\n",
       "    </tr>\n",
       "    <tr>\n",
       "      <th>50%</th>\n",
       "      <td>7363.000000</td>\n",
       "      <td>3748.000000</td>\n",
       "      <td>3838.000000</td>\n",
       "      <td>1801.000000</td>\n",
       "      <td>737.000000</td>\n",
       "      <td>806.000000</td>\n",
       "      <td>76155.000000</td>\n",
       "    </tr>\n",
       "    <tr>\n",
       "      <th>75%</th>\n",
       "      <td>15218.000000</td>\n",
       "      <td>7503.000000</td>\n",
       "      <td>9490.000000</td>\n",
       "      <td>4324.000000</td>\n",
       "      <td>3593.000000</td>\n",
       "      <td>1775.000000</td>\n",
       "      <td>116097.000000</td>\n",
       "    </tr>\n",
       "    <tr>\n",
       "      <th>max</th>\n",
       "      <td>56083.000000</td>\n",
       "      <td>28326.000000</td>\n",
       "      <td>39694.000000</td>\n",
       "      <td>18711.000000</td>\n",
       "      <td>19410.000000</td>\n",
       "      <td>6854.000000</td>\n",
       "      <td>321465.000000</td>\n",
       "    </tr>\n",
       "  </tbody>\n",
       "</table>\n",
       "</div>"
      ],
      "text/plain": [
       "              Fresh          Milk       Grocery        Frozen  \\\n",
       "count     77.000000     77.000000     77.000000     77.000000   \n",
       "mean   11101.727273   5486.415584   7403.077922   3000.337662   \n",
       "std    11557.438575   5704.856079   8496.287728   3092.143894   \n",
       "min       18.000000    258.000000    489.000000     61.000000   \n",
       "25%     2806.000000   1372.000000   2046.000000    950.000000   \n",
       "50%     7363.000000   3748.000000   3838.000000   1801.000000   \n",
       "75%    15218.000000   7503.000000   9490.000000   4324.000000   \n",
       "max    56083.000000  28326.000000  39694.000000  18711.000000   \n",
       "\n",
       "       Detergents_Paper  Delicatessen  Total Spending  \n",
       "count         77.000000     77.000000       77.000000  \n",
       "mean        2651.116883   1354.896104    92992.714286  \n",
       "std         4208.462708   1345.423340    60965.441320  \n",
       "min            5.000000      7.000000    14775.000000  \n",
       "25%          284.000000    548.000000    51552.000000  \n",
       "50%          737.000000    806.000000    76155.000000  \n",
       "75%         3593.000000   1775.000000   116097.000000  \n",
       "max        19410.000000   6854.000000   321465.000000  "
      ]
     },
     "execution_count": 57,
     "metadata": {},
     "output_type": "execute_result"
    }
   ],
   "source": [
    "channel_df=wholesale1[wholesale1['Region']=='Lisbon']\n",
    "channel_df.describe()"
   ]
  },
  {
   "cell_type": "markdown",
   "id": "0284d1a0",
   "metadata": {},
   "source": [
    "From the above statistics, we can see that for Lisbon region the average spending is highest for Fresh product and the standard deviation is also the highest for Fresh.\n",
    "Delicatessen has the lowest spending."
   ]
  },
  {
   "cell_type": "code",
   "execution_count": 58,
   "id": "eec6f5e0",
   "metadata": {},
   "outputs": [
    {
     "data": {
      "text/html": [
       "<div>\n",
       "<style scoped>\n",
       "    .dataframe tbody tr th:only-of-type {\n",
       "        vertical-align: middle;\n",
       "    }\n",
       "\n",
       "    .dataframe tbody tr th {\n",
       "        vertical-align: top;\n",
       "    }\n",
       "\n",
       "    .dataframe thead th {\n",
       "        text-align: right;\n",
       "    }\n",
       "</style>\n",
       "<table border=\"1\" class=\"dataframe\">\n",
       "  <thead>\n",
       "    <tr style=\"text-align: right;\">\n",
       "      <th></th>\n",
       "      <th>Fresh</th>\n",
       "      <th>Milk</th>\n",
       "      <th>Grocery</th>\n",
       "      <th>Frozen</th>\n",
       "      <th>Detergents_Paper</th>\n",
       "      <th>Delicatessen</th>\n",
       "      <th>Total Spending</th>\n",
       "    </tr>\n",
       "  </thead>\n",
       "  <tbody>\n",
       "    <tr>\n",
       "      <th>count</th>\n",
       "      <td>47.000000</td>\n",
       "      <td>47.000000</td>\n",
       "      <td>47.000000</td>\n",
       "      <td>47.000000</td>\n",
       "      <td>47.000000</td>\n",
       "      <td>47.000000</td>\n",
       "      <td>47.000000</td>\n",
       "    </tr>\n",
       "    <tr>\n",
       "      <th>mean</th>\n",
       "      <td>9887.680851</td>\n",
       "      <td>5088.170213</td>\n",
       "      <td>9218.595745</td>\n",
       "      <td>4045.361702</td>\n",
       "      <td>3687.468085</td>\n",
       "      <td>1159.702128</td>\n",
       "      <td>99260.936170</td>\n",
       "    </tr>\n",
       "    <tr>\n",
       "      <th>std</th>\n",
       "      <td>8387.899211</td>\n",
       "      <td>5826.343145</td>\n",
       "      <td>10842.745314</td>\n",
       "      <td>9151.784954</td>\n",
       "      <td>6514.717668</td>\n",
       "      <td>1050.739841</td>\n",
       "      <td>72703.521975</td>\n",
       "    </tr>\n",
       "    <tr>\n",
       "      <th>min</th>\n",
       "      <td>3.000000</td>\n",
       "      <td>333.000000</td>\n",
       "      <td>1330.000000</td>\n",
       "      <td>131.000000</td>\n",
       "      <td>15.000000</td>\n",
       "      <td>51.000000</td>\n",
       "      <td>12387.000000</td>\n",
       "    </tr>\n",
       "    <tr>\n",
       "      <th>25%</th>\n",
       "      <td>2751.500000</td>\n",
       "      <td>1430.500000</td>\n",
       "      <td>2792.500000</td>\n",
       "      <td>811.500000</td>\n",
       "      <td>282.500000</td>\n",
       "      <td>540.500000</td>\n",
       "      <td>61834.500000</td>\n",
       "    </tr>\n",
       "    <tr>\n",
       "      <th>50%</th>\n",
       "      <td>8090.000000</td>\n",
       "      <td>2374.000000</td>\n",
       "      <td>6114.000000</td>\n",
       "      <td>1455.000000</td>\n",
       "      <td>811.000000</td>\n",
       "      <td>898.000000</td>\n",
       "      <td>80859.000000</td>\n",
       "    </tr>\n",
       "    <tr>\n",
       "      <th>75%</th>\n",
       "      <td>14925.500000</td>\n",
       "      <td>5772.500000</td>\n",
       "      <td>11758.500000</td>\n",
       "      <td>3272.000000</td>\n",
       "      <td>4324.500000</td>\n",
       "      <td>1538.500000</td>\n",
       "      <td>108475.500000</td>\n",
       "    </tr>\n",
       "    <tr>\n",
       "      <th>max</th>\n",
       "      <td>32717.000000</td>\n",
       "      <td>25071.000000</td>\n",
       "      <td>67298.000000</td>\n",
       "      <td>60869.000000</td>\n",
       "      <td>38102.000000</td>\n",
       "      <td>5609.000000</td>\n",
       "      <td>392631.000000</td>\n",
       "    </tr>\n",
       "  </tbody>\n",
       "</table>\n",
       "</div>"
      ],
      "text/plain": [
       "              Fresh          Milk       Grocery        Frozen  \\\n",
       "count     47.000000     47.000000     47.000000     47.000000   \n",
       "mean    9887.680851   5088.170213   9218.595745   4045.361702   \n",
       "std     8387.899211   5826.343145  10842.745314   9151.784954   \n",
       "min        3.000000    333.000000   1330.000000    131.000000   \n",
       "25%     2751.500000   1430.500000   2792.500000    811.500000   \n",
       "50%     8090.000000   2374.000000   6114.000000   1455.000000   \n",
       "75%    14925.500000   5772.500000  11758.500000   3272.000000   \n",
       "max    32717.000000  25071.000000  67298.000000  60869.000000   \n",
       "\n",
       "       Detergents_Paper  Delicatessen  Total Spending  \n",
       "count         47.000000     47.000000       47.000000  \n",
       "mean        3687.468085   1159.702128    99260.936170  \n",
       "std         6514.717668   1050.739841    72703.521975  \n",
       "min           15.000000     51.000000    12387.000000  \n",
       "25%          282.500000    540.500000    61834.500000  \n",
       "50%          811.000000    898.000000    80859.000000  \n",
       "75%         4324.500000   1538.500000   108475.500000  \n",
       "max        38102.000000   5609.000000   392631.000000  "
      ]
     },
     "execution_count": 58,
     "metadata": {},
     "output_type": "execute_result"
    }
   ],
   "source": [
    "channel_df=wholesale1[wholesale1['Region']=='Oporto']\n",
    "channel_df.describe()"
   ]
  },
  {
   "cell_type": "markdown",
   "id": "2525593b",
   "metadata": {},
   "source": [
    "From the above statistics, we can see that for Oporto region the average spending is highest for Fresh product but maximum spending is done on Grocery product with the highest standard deviation.\n",
    "Delicatessen has the lowest spending."
   ]
  },
  {
   "cell_type": "code",
   "execution_count": 59,
   "id": "0c1ab618",
   "metadata": {},
   "outputs": [
    {
     "data": {
      "text/html": [
       "<div>\n",
       "<style scoped>\n",
       "    .dataframe tbody tr th:only-of-type {\n",
       "        vertical-align: middle;\n",
       "    }\n",
       "\n",
       "    .dataframe tbody tr th {\n",
       "        vertical-align: top;\n",
       "    }\n",
       "\n",
       "    .dataframe thead th {\n",
       "        text-align: right;\n",
       "    }\n",
       "</style>\n",
       "<table border=\"1\" class=\"dataframe\">\n",
       "  <thead>\n",
       "    <tr style=\"text-align: right;\">\n",
       "      <th></th>\n",
       "      <th>Fresh</th>\n",
       "      <th>Milk</th>\n",
       "      <th>Grocery</th>\n",
       "      <th>Frozen</th>\n",
       "      <th>Detergents_Paper</th>\n",
       "      <th>Delicatessen</th>\n",
       "      <th>Total Spending</th>\n",
       "    </tr>\n",
       "  </thead>\n",
       "  <tbody>\n",
       "    <tr>\n",
       "      <th>count</th>\n",
       "      <td>316.000000</td>\n",
       "      <td>316.000000</td>\n",
       "      <td>316.000000</td>\n",
       "      <td>316.000000</td>\n",
       "      <td>316.000000</td>\n",
       "      <td>316.000000</td>\n",
       "      <td>316.000000</td>\n",
       "    </tr>\n",
       "    <tr>\n",
       "      <th>mean</th>\n",
       "      <td>12533.471519</td>\n",
       "      <td>5977.085443</td>\n",
       "      <td>7896.363924</td>\n",
       "      <td>2944.594937</td>\n",
       "      <td>2817.753165</td>\n",
       "      <td>1620.601266</td>\n",
       "      <td>101369.610759</td>\n",
       "    </tr>\n",
       "    <tr>\n",
       "      <th>std</th>\n",
       "      <td>13389.213115</td>\n",
       "      <td>7935.463443</td>\n",
       "      <td>9537.287778</td>\n",
       "      <td>4260.126243</td>\n",
       "      <td>4593.051613</td>\n",
       "      <td>3232.581660</td>\n",
       "      <td>83848.013255</td>\n",
       "    </tr>\n",
       "    <tr>\n",
       "      <th>min</th>\n",
       "      <td>3.000000</td>\n",
       "      <td>55.000000</td>\n",
       "      <td>3.000000</td>\n",
       "      <td>25.000000</td>\n",
       "      <td>3.000000</td>\n",
       "      <td>3.000000</td>\n",
       "      <td>2712.000000</td>\n",
       "    </tr>\n",
       "    <tr>\n",
       "      <th>25%</th>\n",
       "      <td>3350.750000</td>\n",
       "      <td>1634.000000</td>\n",
       "      <td>2141.500000</td>\n",
       "      <td>664.750000</td>\n",
       "      <td>251.250000</td>\n",
       "      <td>402.000000</td>\n",
       "      <td>51627.750000</td>\n",
       "    </tr>\n",
       "    <tr>\n",
       "      <th>50%</th>\n",
       "      <td>8752.500000</td>\n",
       "      <td>3684.500000</td>\n",
       "      <td>4732.000000</td>\n",
       "      <td>1498.000000</td>\n",
       "      <td>856.000000</td>\n",
       "      <td>994.000000</td>\n",
       "      <td>84087.000000</td>\n",
       "    </tr>\n",
       "    <tr>\n",
       "      <th>75%</th>\n",
       "      <td>17406.500000</td>\n",
       "      <td>7198.750000</td>\n",
       "      <td>10559.750000</td>\n",
       "      <td>3354.750000</td>\n",
       "      <td>3875.750000</td>\n",
       "      <td>1832.750000</td>\n",
       "      <td>127476.750000</td>\n",
       "    </tr>\n",
       "    <tr>\n",
       "      <th>max</th>\n",
       "      <td>112151.000000</td>\n",
       "      <td>73498.000000</td>\n",
       "      <td>92780.000000</td>\n",
       "      <td>36534.000000</td>\n",
       "      <td>40827.000000</td>\n",
       "      <td>47943.000000</td>\n",
       "      <td>599673.000000</td>\n",
       "    </tr>\n",
       "  </tbody>\n",
       "</table>\n",
       "</div>"
      ],
      "text/plain": [
       "               Fresh          Milk       Grocery        Frozen  \\\n",
       "count     316.000000    316.000000    316.000000    316.000000   \n",
       "mean    12533.471519   5977.085443   7896.363924   2944.594937   \n",
       "std     13389.213115   7935.463443   9537.287778   4260.126243   \n",
       "min         3.000000     55.000000      3.000000     25.000000   \n",
       "25%      3350.750000   1634.000000   2141.500000    664.750000   \n",
       "50%      8752.500000   3684.500000   4732.000000   1498.000000   \n",
       "75%     17406.500000   7198.750000  10559.750000   3354.750000   \n",
       "max    112151.000000  73498.000000  92780.000000  36534.000000   \n",
       "\n",
       "       Detergents_Paper  Delicatessen  Total Spending  \n",
       "count        316.000000    316.000000      316.000000  \n",
       "mean        2817.753165   1620.601266   101369.610759  \n",
       "std         4593.051613   3232.581660    83848.013255  \n",
       "min            3.000000      3.000000     2712.000000  \n",
       "25%          251.250000    402.000000    51627.750000  \n",
       "50%          856.000000    994.000000    84087.000000  \n",
       "75%         3875.750000   1832.750000   127476.750000  \n",
       "max        40827.000000  47943.000000   599673.000000  "
      ]
     },
     "execution_count": 59,
     "metadata": {},
     "output_type": "execute_result"
    }
   ],
   "source": [
    "channel_df=wholesale1[wholesale1['Region']=='Other']\n",
    "channel_df.describe()"
   ]
  },
  {
   "cell_type": "markdown",
   "id": "9a35d4d4",
   "metadata": {},
   "source": [
    "From the above statistics, we can see that for Other region the average spending is highest for Fresh product and the standard deviation is also the highest for Fresh.\n",
    "Delicatessen has the lowest spending."
   ]
  },
  {
   "cell_type": "markdown",
   "id": "531e930d",
   "metadata": {},
   "source": [
    "## 1.3 On the basis of a descriptive measure of variability, which item shows the most inconsistent behaviour? Which items show the least inconsistent behaviour?"
   ]
  },
  {
   "cell_type": "code",
   "execution_count": 60,
   "id": "83d5a838",
   "metadata": {},
   "outputs": [],
   "source": [
    "products = wholesale.iloc[:,3:]"
   ]
  },
  {
   "cell_type": "code",
   "execution_count": 61,
   "id": "21bfc165",
   "metadata": {},
   "outputs": [
    {
     "name": "stdout",
     "output_type": "stream",
     "text": [
      "Skewness of all the products\n"
     ]
    },
    {
     "data": {
      "text/plain": [
       "Fresh                2.552583\n",
       "Milk                 4.039922\n",
       "Grocery              3.575187\n",
       "Frozen               5.887826\n",
       "Detergents_Paper     3.619458\n",
       "Delicatessen        11.113534\n",
       "dtype: float64"
      ]
     },
     "execution_count": 61,
     "metadata": {},
     "output_type": "execute_result"
    }
   ],
   "source": [
    "print(\"Skewness of all the products\")\n",
    "products.apply(lambda col:stats.skew(col),axis=0)"
   ]
  },
  {
   "cell_type": "markdown",
   "id": "59b6873e",
   "metadata": {},
   "source": [
    "Skewness factor of all products are > 0. So the distribution of all items are positively Skewed.All the products are not normally distribute about the mean.\n",
    "So to check the inconsistent behavior of the product , we will check the coefficient of variation as the average spending of all the products varies a lot and also there is a huge standard deviation in the spendings."
   ]
  },
  {
   "cell_type": "code",
   "execution_count": 62,
   "id": "48ed25df",
   "metadata": {},
   "outputs": [],
   "source": [
    "products.loc['CV'] = products.apply(lambda col:stats.variation(col),axis=0)"
   ]
  },
  {
   "cell_type": "code",
   "execution_count": 63,
   "id": "08c4693c",
   "metadata": {},
   "outputs": [
    {
     "data": {
      "text/plain": [
       "Fresh               1.052720\n",
       "Milk                1.271851\n",
       "Grocery             1.193815\n",
       "Frozen              1.578536\n",
       "Detergents_Paper    1.652766\n",
       "Delicatessen        1.847304\n",
       "Name: CV, dtype: float64"
      ]
     },
     "execution_count": 63,
     "metadata": {},
     "output_type": "execute_result"
    }
   ],
   "source": [
    "products.loc['CV']"
   ]
  },
  {
   "cell_type": "markdown",
   "id": "ef55568d",
   "metadata": {},
   "source": [
    "The lowest Coefficient of variation is for Fresh, so it is showing the least inconsistent behavior.\n",
    "The highest Coefficient of variation is for Delicatessen, so it is showing the most inconsistent behavior."
   ]
  },
  {
   "cell_type": "markdown",
   "id": "6c240a0f",
   "metadata": {},
   "source": [
    "## 1.4 Are there any outliers in the data? Back up your answer with a suitable plot/technique with the help of detailed comments."
   ]
  },
  {
   "cell_type": "code",
   "execution_count": 64,
   "id": "fc48bf08",
   "metadata": {},
   "outputs": [
    {
     "data": {
      "text/html": [
       "<div>\n",
       "<style scoped>\n",
       "    .dataframe tbody tr th:only-of-type {\n",
       "        vertical-align: middle;\n",
       "    }\n",
       "\n",
       "    .dataframe tbody tr th {\n",
       "        vertical-align: top;\n",
       "    }\n",
       "\n",
       "    .dataframe thead th {\n",
       "        text-align: right;\n",
       "    }\n",
       "</style>\n",
       "<table border=\"1\" class=\"dataframe\">\n",
       "  <thead>\n",
       "    <tr style=\"text-align: right;\">\n",
       "      <th></th>\n",
       "      <th>Fresh</th>\n",
       "      <th>Milk</th>\n",
       "      <th>Grocery</th>\n",
       "      <th>Frozen</th>\n",
       "      <th>Detergents_Paper</th>\n",
       "      <th>Delicatessen</th>\n",
       "    </tr>\n",
       "  </thead>\n",
       "  <tbody>\n",
       "    <tr>\n",
       "      <th>count</th>\n",
       "      <td>441.000000</td>\n",
       "      <td>441.000000</td>\n",
       "      <td>441.000000</td>\n",
       "      <td>441.000000</td>\n",
       "      <td>441.000000</td>\n",
       "      <td>441.000000</td>\n",
       "    </tr>\n",
       "    <tr>\n",
       "      <th>mean</th>\n",
       "      <td>11973.088555</td>\n",
       "      <td>5783.125333</td>\n",
       "      <td>7933.249873</td>\n",
       "      <td>3064.969566</td>\n",
       "      <td>2874.962931</td>\n",
       "      <td>1521.416887</td>\n",
       "    </tr>\n",
       "    <tr>\n",
       "      <th>std</th>\n",
       "      <td>12645.864265</td>\n",
       "      <td>7377.148597</td>\n",
       "      <td>9499.903834</td>\n",
       "      <td>4851.357175</td>\n",
       "      <td>4764.407360</td>\n",
       "      <td>2817.832920</td>\n",
       "    </tr>\n",
       "    <tr>\n",
       "      <th>min</th>\n",
       "      <td>1.052720</td>\n",
       "      <td>1.271851</td>\n",
       "      <td>1.193815</td>\n",
       "      <td>1.578536</td>\n",
       "      <td>1.652766</td>\n",
       "      <td>1.847304</td>\n",
       "    </tr>\n",
       "    <tr>\n",
       "      <th>25%</th>\n",
       "      <td>3103.000000</td>\n",
       "      <td>1530.000000</td>\n",
       "      <td>2147.000000</td>\n",
       "      <td>737.000000</td>\n",
       "      <td>256.000000</td>\n",
       "      <td>406.000000</td>\n",
       "    </tr>\n",
       "    <tr>\n",
       "      <th>50%</th>\n",
       "      <td>8475.000000</td>\n",
       "      <td>3620.000000</td>\n",
       "      <td>4754.000000</td>\n",
       "      <td>1517.000000</td>\n",
       "      <td>813.000000</td>\n",
       "      <td>964.000000</td>\n",
       "    </tr>\n",
       "    <tr>\n",
       "      <th>75%</th>\n",
       "      <td>16933.000000</td>\n",
       "      <td>7184.000000</td>\n",
       "      <td>10646.000000</td>\n",
       "      <td>3549.000000</td>\n",
       "      <td>3909.000000</td>\n",
       "      <td>1819.000000</td>\n",
       "    </tr>\n",
       "    <tr>\n",
       "      <th>max</th>\n",
       "      <td>112151.000000</td>\n",
       "      <td>73498.000000</td>\n",
       "      <td>92780.000000</td>\n",
       "      <td>60869.000000</td>\n",
       "      <td>40827.000000</td>\n",
       "      <td>47943.000000</td>\n",
       "    </tr>\n",
       "  </tbody>\n",
       "</table>\n",
       "</div>"
      ],
      "text/plain": [
       "               Fresh          Milk       Grocery        Frozen  \\\n",
       "count     441.000000    441.000000    441.000000    441.000000   \n",
       "mean    11973.088555   5783.125333   7933.249873   3064.969566   \n",
       "std     12645.864265   7377.148597   9499.903834   4851.357175   \n",
       "min         1.052720      1.271851      1.193815      1.578536   \n",
       "25%      3103.000000   1530.000000   2147.000000    737.000000   \n",
       "50%      8475.000000   3620.000000   4754.000000   1517.000000   \n",
       "75%     16933.000000   7184.000000  10646.000000   3549.000000   \n",
       "max    112151.000000  73498.000000  92780.000000  60869.000000   \n",
       "\n",
       "       Detergents_Paper  Delicatessen  \n",
       "count        441.000000    441.000000  \n",
       "mean        2874.962931   1521.416887  \n",
       "std         4764.407360   2817.832920  \n",
       "min            1.652766      1.847304  \n",
       "25%          256.000000    406.000000  \n",
       "50%          813.000000    964.000000  \n",
       "75%         3909.000000   1819.000000  \n",
       "max        40827.000000  47943.000000  "
      ]
     },
     "execution_count": 64,
     "metadata": {},
     "output_type": "execute_result"
    }
   ],
   "source": [
    "products.describe()"
   ]
  },
  {
   "cell_type": "markdown",
   "id": "47d49c22",
   "metadata": {},
   "source": [
    "As we can see from the above table that there is a huge gap between the max spending on each product and Q3 . Same goes for the other side, i.e., there is a huge difference between min spending and Q1 of each product.\n",
    "So, we will plot a boxplot for each product to check if the particular product has outliers or not."
   ]
  },
  {
   "cell_type": "code",
   "execution_count": 65,
   "id": "1e055c6b",
   "metadata": {},
   "outputs": [
    {
     "name": "stderr",
     "output_type": "stream",
     "text": [
      "C:\\Users\\ikrit\\anaconda3\\lib\\site-packages\\seaborn\\_decorators.py:36: FutureWarning: Pass the following variable as a keyword arg: x. From version 0.12, the only valid positional argument will be `data`, and passing other arguments without an explicit keyword will result in an error or misinterpretation.\n",
      "  warnings.warn(\n",
      "C:\\Users\\ikrit\\anaconda3\\lib\\site-packages\\seaborn\\_decorators.py:36: FutureWarning: Pass the following variable as a keyword arg: x. From version 0.12, the only valid positional argument will be `data`, and passing other arguments without an explicit keyword will result in an error or misinterpretation.\n",
      "  warnings.warn(\n",
      "C:\\Users\\ikrit\\anaconda3\\lib\\site-packages\\seaborn\\_decorators.py:36: FutureWarning: Pass the following variable as a keyword arg: x. From version 0.12, the only valid positional argument will be `data`, and passing other arguments without an explicit keyword will result in an error or misinterpretation.\n",
      "  warnings.warn(\n",
      "C:\\Users\\ikrit\\anaconda3\\lib\\site-packages\\seaborn\\_decorators.py:36: FutureWarning: Pass the following variable as a keyword arg: x. From version 0.12, the only valid positional argument will be `data`, and passing other arguments without an explicit keyword will result in an error or misinterpretation.\n",
      "  warnings.warn(\n",
      "C:\\Users\\ikrit\\anaconda3\\lib\\site-packages\\seaborn\\_decorators.py:36: FutureWarning: Pass the following variable as a keyword arg: x. From version 0.12, the only valid positional argument will be `data`, and passing other arguments without an explicit keyword will result in an error or misinterpretation.\n",
      "  warnings.warn(\n",
      "C:\\Users\\ikrit\\anaconda3\\lib\\site-packages\\seaborn\\_decorators.py:36: FutureWarning: Pass the following variable as a keyword arg: x. From version 0.12, the only valid positional argument will be `data`, and passing other arguments without an explicit keyword will result in an error or misinterpretation.\n",
      "  warnings.warn(\n"
     ]
    },
    {
     "data": {
      "text/plain": [
       "<AxesSubplot:xlabel='Delicatessen'>"
      ]
     },
     "execution_count": 65,
     "metadata": {},
     "output_type": "execute_result"
    },
    {
     "data": {
      "image/png": "[encoded data removed]",
      "text/plain": [
       "<Figure size 1080x720 with 6 Axes>"
      ]
     },
     "metadata": {},
     "output_type": "display_data"
    }
   ],
   "source": [
    "plt.figure(figsize=(15,10))\n",
    "plt.subplot(3,2,1)\n",
    "sns.boxplot(products['Fresh'])\n",
    "plt.subplot(3,2,2)\n",
    "sns.boxplot(products['Milk'])\n",
    "plt.subplot(3,2,3)\n",
    "sns.boxplot(products['Grocery'])\n",
    "plt.subplot(3,2,4)\n",
    "sns.boxplot(products['Frozen'])\n",
    "plt.subplot(3,2,5)\n",
    "sns.boxplot(products['Detergents_Paper'])\n",
    "plt.subplot(3,2,6)\n",
    "sns.boxplot(products['Delicatessen'])"
   ]
  },
  {
   "cell_type": "markdown",
   "id": "120786f5",
   "metadata": {},
   "source": [
    "As per the above plots, outliers are present for all the products in the dataset due to which there is a huge standard deviation and the average of the spending is also not appropriate."
   ]
  },
  {
   "cell_type": "markdown",
   "id": "33ba5aba",
   "metadata": {},
   "source": [
    "## 1.5 On the basis of your analysis, what are your recommendations for the business? How can your analysis help the business to solve its problem? Answer from the business perspective"
   ]
  },
  {
   "cell_type": "markdown",
   "id": "e496f7eb",
   "metadata": {},
   "source": [
    "1. Maximum spending is done in Other region and the least is done in Oporto . There is a need to increase the sales in Lisbon and Oporto region.\n",
    "2. Hotel channel is spending more on the products than the Retail. So, the Customers should be encouraged to buy the products from these retail stores which can be influenced by introducing some discounts or offers.\n",
    "3. Milk, Grocery and Detergents paper is showing more spending in Retail which means demand for these items are more in the retail stores.\n",
    "4. Likewise, Fresh, frozen and delicatessen product has more spending in Hotel which shows that fancy items has more demand in Hotels than in Retails.\n",
    "5. Lisbon region has a high demand of fresh products.\n",
    "6. Oporto region has the highest demand of grocery items.\n",
    "7. Other region has a high demand of fresh products.\n",
    "8. Fresh and grocery products have very good sales, so some efforts should be done in order to increase the sales of the remaining products. \n",
    "9. The dataset has outliers for each product which makes the data inconsistent.\n",
    "10. The standard deviation for each product is very high which should be reduced in order to get a better picture."
   ]
  },
  {
   "cell_type": "markdown",
   "id": "be7ca451",
   "metadata": {},
   "source": [
    "## Problem 2: The Student News Service at Clear Mountain State University (CMSU) has decided to gather data about the undergraduate students that attend CMSU. CMSU creates and distributes a survey of 14 questions and receives responses from 62 undergraduates (stored in the Survey data set)."
   ]
  },
  {
   "cell_type": "code",
   "execution_count": 66,
   "id": "f215d3a7",
   "metadata": {},
   "outputs": [
    {
     "data": {
      "text/html": [
       "<div>\n",
       "<style scoped>\n",
       "    .dataframe tbody tr th:only-of-type {\n",
       "        vertical-align: middle;\n",
       "    }\n",
       "\n",
       "    .dataframe tbody tr th {\n",
       "        vertical-align: top;\n",
       "    }\n",
       "\n",
       "    .dataframe thead th {\n",
       "        text-align: right;\n",
       "    }\n",
       "</style>\n",
       "<table border=\"1\" class=\"dataframe\">\n",
       "  <thead>\n",
       "    <tr style=\"text-align: right;\">\n",
       "      <th></th>\n",
       "      <th>ID</th>\n",
       "      <th>Gender</th>\n",
       "      <th>Age</th>\n",
       "      <th>Class</th>\n",
       "      <th>Major</th>\n",
       "      <th>Grad Intention</th>\n",
       "      <th>GPA</th>\n",
       "      <th>Employment</th>\n",
       "      <th>Salary</th>\n",
       "      <th>Social Networking</th>\n",
       "      <th>Satisfaction</th>\n",
       "      <th>Spending</th>\n",
       "      <th>Computer</th>\n",
       "      <th>Text Messages</th>\n",
       "    </tr>\n",
       "  </thead>\n",
       "  <tbody>\n",
       "    <tr>\n",
       "      <th>0</th>\n",
       "      <td>1</td>\n",
       "      <td>Female</td>\n",
       "      <td>20</td>\n",
       "      <td>Junior</td>\n",
       "      <td>Other</td>\n",
       "      <td>Yes</td>\n",
       "      <td>2.9</td>\n",
       "      <td>Full-Time</td>\n",
       "      <td>50.0</td>\n",
       "      <td>1</td>\n",
       "      <td>3</td>\n",
       "      <td>350</td>\n",
       "      <td>Laptop</td>\n",
       "      <td>200</td>\n",
       "    </tr>\n",
       "    <tr>\n",
       "      <th>1</th>\n",
       "      <td>2</td>\n",
       "      <td>Male</td>\n",
       "      <td>23</td>\n",
       "      <td>Senior</td>\n",
       "      <td>Management</td>\n",
       "      <td>Yes</td>\n",
       "      <td>3.6</td>\n",
       "      <td>Part-Time</td>\n",
       "      <td>25.0</td>\n",
       "      <td>1</td>\n",
       "      <td>4</td>\n",
       "      <td>360</td>\n",
       "      <td>Laptop</td>\n",
       "      <td>50</td>\n",
       "    </tr>\n",
       "    <tr>\n",
       "      <th>2</th>\n",
       "      <td>3</td>\n",
       "      <td>Male</td>\n",
       "      <td>21</td>\n",
       "      <td>Junior</td>\n",
       "      <td>Other</td>\n",
       "      <td>Yes</td>\n",
       "      <td>2.5</td>\n",
       "      <td>Part-Time</td>\n",
       "      <td>45.0</td>\n",
       "      <td>2</td>\n",
       "      <td>4</td>\n",
       "      <td>600</td>\n",
       "      <td>Laptop</td>\n",
       "      <td>200</td>\n",
       "    </tr>\n",
       "    <tr>\n",
       "      <th>3</th>\n",
       "      <td>4</td>\n",
       "      <td>Male</td>\n",
       "      <td>21</td>\n",
       "      <td>Junior</td>\n",
       "      <td>CIS</td>\n",
       "      <td>Yes</td>\n",
       "      <td>2.5</td>\n",
       "      <td>Full-Time</td>\n",
       "      <td>40.0</td>\n",
       "      <td>4</td>\n",
       "      <td>6</td>\n",
       "      <td>600</td>\n",
       "      <td>Laptop</td>\n",
       "      <td>250</td>\n",
       "    </tr>\n",
       "    <tr>\n",
       "      <th>4</th>\n",
       "      <td>5</td>\n",
       "      <td>Male</td>\n",
       "      <td>23</td>\n",
       "      <td>Senior</td>\n",
       "      <td>Other</td>\n",
       "      <td>Undecided</td>\n",
       "      <td>2.8</td>\n",
       "      <td>Unemployed</td>\n",
       "      <td>40.0</td>\n",
       "      <td>2</td>\n",
       "      <td>4</td>\n",
       "      <td>500</td>\n",
       "      <td>Laptop</td>\n",
       "      <td>100</td>\n",
       "    </tr>\n",
       "  </tbody>\n",
       "</table>\n",
       "</div>"
      ],
      "text/plain": [
       "   ID  Gender  Age   Class       Major Grad Intention  GPA  Employment  \\\n",
       "0   1  Female   20  Junior       Other            Yes  2.9   Full-Time   \n",
       "1   2    Male   23  Senior  Management            Yes  3.6   Part-Time   \n",
       "2   3    Male   21  Junior       Other            Yes  2.5   Part-Time   \n",
       "3   4    Male   21  Junior         CIS            Yes  2.5   Full-Time   \n",
       "4   5    Male   23  Senior       Other      Undecided  2.8  Unemployed   \n",
       "\n",
       "   Salary  Social Networking  Satisfaction  Spending Computer  Text Messages  \n",
       "0    50.0                  1             3       350   Laptop            200  \n",
       "1    25.0                  1             4       360   Laptop             50  \n",
       "2    45.0                  2             4       600   Laptop            200  \n",
       "3    40.0                  4             6       600   Laptop            250  \n",
       "4    40.0                  2             4       500   Laptop            100  "
      ]
     },
     "execution_count": 66,
     "metadata": {},
     "output_type": "execute_result"
    }
   ],
   "source": [
    "survey_df=pd.read_csv('Survey-1.csv')\n",
    "survey_df.head()"
   ]
  },
  {
   "cell_type": "code",
   "execution_count": 67,
   "id": "796a594e",
   "metadata": {},
   "outputs": [
    {
     "name": "stdout",
     "output_type": "stream",
     "text": [
      "<class 'pandas.core.frame.DataFrame'>\n",
      "RangeIndex: 62 entries, 0 to 61\n",
      "Data columns (total 14 columns):\n",
      " #   Column             Non-Null Count  Dtype  \n",
      "---  ------             --------------  -----  \n",
      " 0   ID                 62 non-null     int64  \n",
      " 1   Gender             62 non-null     object \n",
      " 2   Age                62 non-null     int64  \n",
      " 3   Class              62 non-null     object \n",
      " 4   Major              62 non-null     object \n",
      " 5   Grad Intention     62 non-null     object \n",
      " 6   GPA                62 non-null     float64\n",
      " 7   Employment         62 non-null     object \n",
      " 8   Salary             62 non-null     float64\n",
      " 9   Social Networking  62 non-null     int64  \n",
      " 10  Satisfaction       62 non-null     int64  \n",
      " 11  Spending           62 non-null     int64  \n",
      " 12  Computer           62 non-null     object \n",
      " 13  Text Messages      62 non-null     int64  \n",
      "dtypes: float64(2), int64(6), object(6)\n",
      "memory usage: 6.9+ KB\n"
     ]
    }
   ],
   "source": [
    "survey_df.info()"
   ]
  },
  {
   "cell_type": "markdown",
   "id": "32843202",
   "metadata": {},
   "source": [
    "There are a total of 14 columns in the dataset out of which 2 columns are of float type, 6 are of integer type and 6 are of object type."
   ]
  },
  {
   "cell_type": "code",
   "execution_count": 68,
   "id": "b4a51f0e",
   "metadata": {},
   "outputs": [
    {
     "data": {
      "text/plain": [
       "ID                   0\n",
       "Gender               0\n",
       "Age                  0\n",
       "Class                0\n",
       "Major                0\n",
       "Grad Intention       0\n",
       "GPA                  0\n",
       "Employment           0\n",
       "Salary               0\n",
       "Social Networking    0\n",
       "Satisfaction         0\n",
       "Spending             0\n",
       "Computer             0\n",
       "Text Messages        0\n",
       "dtype: int64"
      ]
     },
     "execution_count": 68,
     "metadata": {},
     "output_type": "execute_result"
    }
   ],
   "source": [
    "survey_df.isnull().sum()"
   ]
  },
  {
   "cell_type": "markdown",
   "id": "a6fa5e5f",
   "metadata": {},
   "source": [
    "The dataset is clean as there are no null values in it. So, there is no need to clean the data."
   ]
  },
  {
   "cell_type": "markdown",
   "id": "c2f9eed5",
   "metadata": {},
   "source": [
    "## 2.1. For this data, construct the following contingency tables (Keep Gender as row variable)"
   ]
  },
  {
   "cell_type": "markdown",
   "id": "eb04f2d6",
   "metadata": {},
   "source": [
    "## 2.1.1. Contingency table for Gender and Major"
   ]
  },
  {
   "cell_type": "code",
   "execution_count": 70,
   "id": "21d61c04",
   "metadata": {},
   "outputs": [
    {
     "data": {
      "text/html": [
       "<div>\n",
       "<style scoped>\n",
       "    .dataframe tbody tr th:only-of-type {\n",
       "        vertical-align: middle;\n",
       "    }\n",
       "\n",
       "    .dataframe tbody tr th {\n",
       "        vertical-align: top;\n",
       "    }\n",
       "\n",
       "    .dataframe thead th {\n",
       "        text-align: right;\n",
       "    }\n",
       "</style>\n",
       "<table border=\"1\" class=\"dataframe\">\n",
       "  <thead>\n",
       "    <tr style=\"text-align: right;\">\n",
       "      <th>Major</th>\n",
       "      <th>Accounting</th>\n",
       "      <th>CIS</th>\n",
       "      <th>Economics/Finance</th>\n",
       "      <th>International Business</th>\n",
       "      <th>Management</th>\n",
       "      <th>Other</th>\n",
       "      <th>Retailing/Marketing</th>\n",
       "      <th>Undecided</th>\n",
       "      <th>Total</th>\n",
       "    </tr>\n",
       "    <tr>\n",
       "      <th>Gender</th>\n",
       "      <th></th>\n",
       "      <th></th>\n",
       "      <th></th>\n",
       "      <th></th>\n",
       "      <th></th>\n",
       "      <th></th>\n",
       "      <th></th>\n",
       "      <th></th>\n",
       "      <th></th>\n",
       "    </tr>\n",
       "  </thead>\n",
       "  <tbody>\n",
       "    <tr>\n",
       "      <th>Female</th>\n",
       "      <td>3</td>\n",
       "      <td>3</td>\n",
       "      <td>7</td>\n",
       "      <td>4</td>\n",
       "      <td>4</td>\n",
       "      <td>3</td>\n",
       "      <td>9</td>\n",
       "      <td>0</td>\n",
       "      <td>33</td>\n",
       "    </tr>\n",
       "    <tr>\n",
       "      <th>Male</th>\n",
       "      <td>4</td>\n",
       "      <td>1</td>\n",
       "      <td>4</td>\n",
       "      <td>2</td>\n",
       "      <td>6</td>\n",
       "      <td>4</td>\n",
       "      <td>5</td>\n",
       "      <td>3</td>\n",
       "      <td>29</td>\n",
       "    </tr>\n",
       "    <tr>\n",
       "      <th>Total</th>\n",
       "      <td>7</td>\n",
       "      <td>4</td>\n",
       "      <td>11</td>\n",
       "      <td>6</td>\n",
       "      <td>10</td>\n",
       "      <td>7</td>\n",
       "      <td>14</td>\n",
       "      <td>3</td>\n",
       "      <td>62</td>\n",
       "    </tr>\n",
       "  </tbody>\n",
       "</table>\n",
       "</div>"
      ],
      "text/plain": [
       "Major   Accounting  CIS  Economics/Finance  International Business  \\\n",
       "Gender                                                               \n",
       "Female           3    3                  7                       4   \n",
       "Male             4    1                  4                       2   \n",
       "Total            7    4                 11                       6   \n",
       "\n",
       "Major   Management  Other  Retailing/Marketing  Undecided  Total  \n",
       "Gender                                                            \n",
       "Female           4      3                    9          0     33  \n",
       "Male             6      4                    5          3     29  \n",
       "Total           10      7                   14          3     62  "
      ]
     },
     "execution_count": 70,
     "metadata": {},
     "output_type": "execute_result"
    }
   ],
   "source": [
    "gender_major = pd.crosstab(survey_df['Gender'],survey_df['Major'])\n",
    "gender_major.loc['Total'] = gender_major.apply(lambda col:np.sum(col),axis=0)\n",
    "gender_major['Total'] = gender_major.apply(lambda row:np.sum(row),axis=1)\n",
    "gender_major"
   ]
  },
  {
   "cell_type": "markdown",
   "id": "8617904a",
   "metadata": {},
   "source": [
    "## 2.1.2. Contingency table for Gender and Grad Intention"
   ]
  },
  {
   "cell_type": "code",
   "execution_count": 71,
   "id": "15732b35",
   "metadata": {},
   "outputs": [
    {
     "data": {
      "text/html": [
       "<div>\n",
       "<style scoped>\n",
       "    .dataframe tbody tr th:only-of-type {\n",
       "        vertical-align: middle;\n",
       "    }\n",
       "\n",
       "    .dataframe tbody tr th {\n",
       "        vertical-align: top;\n",
       "    }\n",
       "\n",
       "    .dataframe thead th {\n",
       "        text-align: right;\n",
       "    }\n",
       "</style>\n",
       "<table border=\"1\" class=\"dataframe\">\n",
       "  <thead>\n",
       "    <tr style=\"text-align: right;\">\n",
       "      <th>Grad Intention</th>\n",
       "      <th>No</th>\n",
       "      <th>Undecided</th>\n",
       "      <th>Yes</th>\n",
       "      <th>Total</th>\n",
       "    </tr>\n",
       "    <tr>\n",
       "      <th>Gender</th>\n",
       "      <th></th>\n",
       "      <th></th>\n",
       "      <th></th>\n",
       "      <th></th>\n",
       "    </tr>\n",
       "  </thead>\n",
       "  <tbody>\n",
       "    <tr>\n",
       "      <th>Female</th>\n",
       "      <td>9</td>\n",
       "      <td>13</td>\n",
       "      <td>11</td>\n",
       "      <td>33</td>\n",
       "    </tr>\n",
       "    <tr>\n",
       "      <th>Male</th>\n",
       "      <td>3</td>\n",
       "      <td>9</td>\n",
       "      <td>17</td>\n",
       "      <td>29</td>\n",
       "    </tr>\n",
       "    <tr>\n",
       "      <th>Total</th>\n",
       "      <td>12</td>\n",
       "      <td>22</td>\n",
       "      <td>28</td>\n",
       "      <td>62</td>\n",
       "    </tr>\n",
       "  </tbody>\n",
       "</table>\n",
       "</div>"
      ],
      "text/plain": [
       "Grad Intention  No  Undecided  Yes  Total\n",
       "Gender                                   \n",
       "Female           9         13   11     33\n",
       "Male             3          9   17     29\n",
       "Total           12         22   28     62"
      ]
     },
     "execution_count": 71,
     "metadata": {},
     "output_type": "execute_result"
    }
   ],
   "source": [
    "gender_grad = pd.crosstab(survey_df['Gender'],survey_df['Grad Intention'])\n",
    "gender_grad.loc['Total'] = gender_grad.apply(lambda col:np.sum(col),axis=0)\n",
    "gender_grad['Total'] = gender_grad.apply(lambda row:np.sum(row),axis=1)\n",
    "gender_grad"
   ]
  },
  {
   "cell_type": "markdown",
   "id": "0488437f",
   "metadata": {},
   "source": [
    "## 2.1.3. Contingency table for Gender and Employment"
   ]
  },
  {
   "cell_type": "code",
   "execution_count": 72,
   "id": "a3e4136a",
   "metadata": {},
   "outputs": [
    {
     "data": {
      "text/html": [
       "<div>\n",
       "<style scoped>\n",
       "    .dataframe tbody tr th:only-of-type {\n",
       "        vertical-align: middle;\n",
       "    }\n",
       "\n",
       "    .dataframe tbody tr th {\n",
       "        vertical-align: top;\n",
       "    }\n",
       "\n",
       "    .dataframe thead th {\n",
       "        text-align: right;\n",
       "    }\n",
       "</style>\n",
       "<table border=\"1\" class=\"dataframe\">\n",
       "  <thead>\n",
       "    <tr style=\"text-align: right;\">\n",
       "      <th>Employment</th>\n",
       "      <th>Full-Time</th>\n",
       "      <th>Part-Time</th>\n",
       "      <th>Unemployed</th>\n",
       "      <th>Total</th>\n",
       "    </tr>\n",
       "    <tr>\n",
       "      <th>Gender</th>\n",
       "      <th></th>\n",
       "      <th></th>\n",
       "      <th></th>\n",
       "      <th></th>\n",
       "    </tr>\n",
       "  </thead>\n",
       "  <tbody>\n",
       "    <tr>\n",
       "      <th>Female</th>\n",
       "      <td>3</td>\n",
       "      <td>24</td>\n",
       "      <td>6</td>\n",
       "      <td>33</td>\n",
       "    </tr>\n",
       "    <tr>\n",
       "      <th>Male</th>\n",
       "      <td>7</td>\n",
       "      <td>19</td>\n",
       "      <td>3</td>\n",
       "      <td>29</td>\n",
       "    </tr>\n",
       "    <tr>\n",
       "      <th>Total</th>\n",
       "      <td>10</td>\n",
       "      <td>43</td>\n",
       "      <td>9</td>\n",
       "      <td>62</td>\n",
       "    </tr>\n",
       "  </tbody>\n",
       "</table>\n",
       "</div>"
      ],
      "text/plain": [
       "Employment  Full-Time  Part-Time  Unemployed  Total\n",
       "Gender                                             \n",
       "Female              3         24           6     33\n",
       "Male                7         19           3     29\n",
       "Total              10         43           9     62"
      ]
     },
     "execution_count": 72,
     "metadata": {},
     "output_type": "execute_result"
    }
   ],
   "source": [
    "gender_emp = pd.crosstab(survey_df['Gender'],survey_df['Employment'])\n",
    "gender_emp.loc['Total'] = gender_emp.apply(lambda col:np.sum(col),axis=0)\n",
    "gender_emp['Total'] = gender_emp.apply(lambda row:np.sum(row),axis=1)\n",
    "gender_emp"
   ]
  },
  {
   "cell_type": "markdown",
   "id": "cab90222",
   "metadata": {},
   "source": [
    "## 2.1.4. Contingency table for Gender and Computer"
   ]
  },
  {
   "cell_type": "code",
   "execution_count": 73,
   "id": "321862b9",
   "metadata": {},
   "outputs": [
    {
     "data": {
      "text/html": [
       "<div>\n",
       "<style scoped>\n",
       "    .dataframe tbody tr th:only-of-type {\n",
       "        vertical-align: middle;\n",
       "    }\n",
       "\n",
       "    .dataframe tbody tr th {\n",
       "        vertical-align: top;\n",
       "    }\n",
       "\n",
       "    .dataframe thead th {\n",
       "        text-align: right;\n",
       "    }\n",
       "</style>\n",
       "<table border=\"1\" class=\"dataframe\">\n",
       "  <thead>\n",
       "    <tr style=\"text-align: right;\">\n",
       "      <th>Computer</th>\n",
       "      <th>Desktop</th>\n",
       "      <th>Laptop</th>\n",
       "      <th>Tablet</th>\n",
       "      <th>Total</th>\n",
       "    </tr>\n",
       "    <tr>\n",
       "      <th>Gender</th>\n",
       "      <th></th>\n",
       "      <th></th>\n",
       "      <th></th>\n",
       "      <th></th>\n",
       "    </tr>\n",
       "  </thead>\n",
       "  <tbody>\n",
       "    <tr>\n",
       "      <th>Female</th>\n",
       "      <td>2</td>\n",
       "      <td>29</td>\n",
       "      <td>2</td>\n",
       "      <td>33</td>\n",
       "    </tr>\n",
       "    <tr>\n",
       "      <th>Male</th>\n",
       "      <td>3</td>\n",
       "      <td>26</td>\n",
       "      <td>0</td>\n",
       "      <td>29</td>\n",
       "    </tr>\n",
       "    <tr>\n",
       "      <th>Total</th>\n",
       "      <td>5</td>\n",
       "      <td>55</td>\n",
       "      <td>2</td>\n",
       "      <td>62</td>\n",
       "    </tr>\n",
       "  </tbody>\n",
       "</table>\n",
       "</div>"
      ],
      "text/plain": [
       "Computer  Desktop  Laptop  Tablet  Total\n",
       "Gender                                  \n",
       "Female          2      29       2     33\n",
       "Male            3      26       0     29\n",
       "Total           5      55       2     62"
      ]
     },
     "execution_count": 73,
     "metadata": {},
     "output_type": "execute_result"
    }
   ],
   "source": [
    "gender_comp = pd.crosstab(survey_df['Gender'],survey_df['Computer'])\n",
    "gender_comp.loc['Total'] = gender_comp.apply(lambda col:np.sum(col),axis=0)\n",
    "gender_comp['Total'] = gender_comp.apply(lambda row:np.sum(row),axis=1)\n",
    "gender_comp"
   ]
  },
  {
   "cell_type": "markdown",
   "id": "fc0e254a",
   "metadata": {},
   "source": [
    "## 2.2. Assume that the sample is representative of the population of CMSU. Based on the data, answer the following question:"
   ]
  },
  {
   "cell_type": "markdown",
   "id": "7a671335",
   "metadata": {},
   "source": [
    "## 2.2.1. What is the probability that a randomly selected CMSU student will be male?"
   ]
  },
  {
   "cell_type": "code",
   "execution_count": 58,
   "id": "292c443a",
   "metadata": {},
   "outputs": [
    {
     "name": "stdout",
     "output_type": "stream",
     "text": [
      "Probability that a randomly selected CMSU will be male is : 0.468\n"
     ]
    }
   ],
   "source": [
    "total_students=survey_df.shape[0]\n",
    "total_male=survey_df['Gender'].value_counts().loc['Male']\n",
    "p_male=(total_male)/(total_students)\n",
    "print(\"Probability that a randomly selected CMSU will be male is :\",round(p_male,3))"
   ]
  },
  {
   "cell_type": "markdown",
   "id": "d419f070",
   "metadata": {},
   "source": [
    "### 2.2.2. What is the probability that a randomly selected CMSU student will be female?"
   ]
  },
  {
   "cell_type": "code",
   "execution_count": 59,
   "id": "db3bcc9c",
   "metadata": {},
   "outputs": [
    {
     "name": "stdout",
     "output_type": "stream",
     "text": [
      "Probability that a randomly selected CMSU will be female is : 0.532\n"
     ]
    }
   ],
   "source": [
    "total_female=survey_df['Gender'].value_counts().loc['Female']\n",
    "p_female=(total_female)/(total_students)\n",
    "print(\"Probability that a randomly selected CMSU will be female is :\",round(p_female,3))"
   ]
  },
  {
   "cell_type": "markdown",
   "id": "b9505571",
   "metadata": {},
   "source": [
    "## 2.3. Assume that the sample is representative of the population of CMSU. Based on the data, answer the following question:"
   ]
  },
  {
   "cell_type": "markdown",
   "id": "3b58b416",
   "metadata": {},
   "source": [
    "## 2.3.1. Find the conditional probability of different majors among the male students in CMSU."
   ]
  },
  {
   "cell_type": "code",
   "execution_count": 60,
   "id": "3c4d3d19",
   "metadata": {},
   "outputs": [
    {
     "data": {
      "text/html": [
       "<div>\n",
       "<style scoped>\n",
       "    .dataframe tbody tr th:only-of-type {\n",
       "        vertical-align: middle;\n",
       "    }\n",
       "\n",
       "    .dataframe tbody tr th {\n",
       "        vertical-align: top;\n",
       "    }\n",
       "\n",
       "    .dataframe thead th {\n",
       "        text-align: right;\n",
       "    }\n",
       "</style>\n",
       "<table border=\"1\" class=\"dataframe\">\n",
       "  <thead>\n",
       "    <tr style=\"text-align: right;\">\n",
       "      <th>Major</th>\n",
       "      <th>Accounting</th>\n",
       "      <th>CIS</th>\n",
       "      <th>Economics/Finance</th>\n",
       "      <th>International Business</th>\n",
       "      <th>Management</th>\n",
       "      <th>Other</th>\n",
       "      <th>Retailing/Marketing</th>\n",
       "      <th>Undecided</th>\n",
       "      <th>Total</th>\n",
       "    </tr>\n",
       "    <tr>\n",
       "      <th>Gender</th>\n",
       "      <th></th>\n",
       "      <th></th>\n",
       "      <th></th>\n",
       "      <th></th>\n",
       "      <th></th>\n",
       "      <th></th>\n",
       "      <th></th>\n",
       "      <th></th>\n",
       "      <th></th>\n",
       "    </tr>\n",
       "  </thead>\n",
       "  <tbody>\n",
       "    <tr>\n",
       "      <th>Female</th>\n",
       "      <td>3</td>\n",
       "      <td>3</td>\n",
       "      <td>7</td>\n",
       "      <td>4</td>\n",
       "      <td>4</td>\n",
       "      <td>3</td>\n",
       "      <td>9</td>\n",
       "      <td>0</td>\n",
       "      <td>33</td>\n",
       "    </tr>\n",
       "    <tr>\n",
       "      <th>Male</th>\n",
       "      <td>4</td>\n",
       "      <td>1</td>\n",
       "      <td>4</td>\n",
       "      <td>2</td>\n",
       "      <td>6</td>\n",
       "      <td>4</td>\n",
       "      <td>5</td>\n",
       "      <td>3</td>\n",
       "      <td>29</td>\n",
       "    </tr>\n",
       "    <tr>\n",
       "      <th>Total</th>\n",
       "      <td>7</td>\n",
       "      <td>4</td>\n",
       "      <td>11</td>\n",
       "      <td>6</td>\n",
       "      <td>10</td>\n",
       "      <td>7</td>\n",
       "      <td>14</td>\n",
       "      <td>3</td>\n",
       "      <td>62</td>\n",
       "    </tr>\n",
       "  </tbody>\n",
       "</table>\n",
       "</div>"
      ],
      "text/plain": [
       "Major   Accounting  CIS  Economics/Finance  International Business  \\\n",
       "Gender                                                               \n",
       "Female           3    3                  7                       4   \n",
       "Male             4    1                  4                       2   \n",
       "Total            7    4                 11                       6   \n",
       "\n",
       "Major   Management  Other  Retailing/Marketing  Undecided  Total  \n",
       "Gender                                                            \n",
       "Female           4      3                    9          0     33  \n",
       "Male             6      4                    5          3     29  \n",
       "Total           10      7                   14          3     62  "
      ]
     },
     "execution_count": 60,
     "metadata": {},
     "output_type": "execute_result"
    }
   ],
   "source": [
    "gender_major"
   ]
  },
  {
   "cell_type": "code",
   "execution_count": 61,
   "id": "63ea6b5d",
   "metadata": {},
   "outputs": [],
   "source": [
    "p_maleAccounting=gender_major.loc['Male','Accounting']/gender_major.loc['Male','Total']\n",
    "p_maleCIS=gender_major.loc['Male','CIS']/gender_major.loc['Male','Total']\n",
    "p_maleEcoFinance=gender_major.loc['Male','Economics/Finance']/gender_major.loc['Male','Total']\n",
    "p_maleintBusiness=gender_major.loc['Male','International Business']/gender_major.loc['Male','Total']\n",
    "p_maleManagement=gender_major.loc['Male','Management']/gender_major.loc['Male','Total']\n",
    "p_maleOther=gender_major.loc['Male','Other']/gender_major.loc['Male','Total']\n",
    "p_maleRetail=gender_major.loc['Male','Retailing/Marketing']/gender_major.loc['Male','Total']\n",
    "p_maleUndecided=gender_major.loc['Male','Undecided']/gender_major.loc['Male','Total']"
   ]
  },
  {
   "cell_type": "code",
   "execution_count": 62,
   "id": "b7bb19d6",
   "metadata": {},
   "outputs": [
    {
     "name": "stdout",
     "output_type": "stream",
     "text": [
      "Probability of male students having major in Accounting is:  0.14\n",
      "Probability of male students having major in CIS is:  0.03\n",
      "Probability of male students having major in Economics/Finance is:  0.14\n",
      "Probability of male students having major in International Business is:  0.07\n",
      "Probability of male students having major in Management is:  0.21\n",
      "Probability of male students having major in some other subject is:  0.14\n",
      "Probability of male students having major in Retailing/Marketing is 0.17\n",
      "Probability of male students who have not decided about their major is 0.1\n"
     ]
    }
   ],
   "source": [
    "print(\"Probability of male students having major in Accounting is: \",round(p_maleAccounting,2))\n",
    "print(\"Probability of male students having major in CIS is: \",round(p_maleCIS,2))\n",
    "print(\"Probability of male students having major in Economics/Finance is: \",round(p_maleEcoFinance,2))\n",
    "print(\"Probability of male students having major in International Business is: \",round(p_maleintBusiness,2))\n",
    "print(\"Probability of male students having major in Management is: \",round(p_maleManagement,2))\n",
    "print(\"Probability of male students having major in some other subject is: \",round(p_maleOther,2))\n",
    "print(\"Probability of male students having major in Retailing/Marketing is\",round(p_maleRetail,2))\n",
    "print(\"Probability of male students who have not decided about their major is\",round(p_maleUndecided,2))"
   ]
  },
  {
   "cell_type": "markdown",
   "id": "55008a3c",
   "metadata": {},
   "source": [
    "## 2.3.2 Find the conditional probability of different majors among the female students of CMSU."
   ]
  },
  {
   "cell_type": "code",
   "execution_count": 63,
   "id": "02ea4e60",
   "metadata": {},
   "outputs": [],
   "source": [
    "p_femaleAccounting=gender_major.loc['Female','Accounting']/gender_major.loc['Female','Total']\n",
    "p_femaleCIS=gender_major.loc['Female','CIS']/gender_major.loc['Female','Total']\n",
    "p_femaleEcoFinance=gender_major.loc['Female','Economics/Finance']/gender_major.loc['Female','Total']\n",
    "p_femaleintBusiness=gender_major.loc['Female','International Business']/gender_major.loc['Female','Total']\n",
    "p_femaleManagement=gender_major.loc['Female','Management']/gender_major.loc['Female','Total']\n",
    "p_femaleOther=gender_major.loc['Female','Other']/gender_major.loc['Female','Total']\n",
    "p_femaleRetail=gender_major.loc['Female','Retailing/Marketing']/gender_major.loc['Female','Total']\n",
    "p_femaleUndecided=gender_major.loc['Female','Undecided']/gender_major.loc['Female','Total']"
   ]
  },
  {
   "cell_type": "code",
   "execution_count": 64,
   "id": "e8ae0194",
   "metadata": {},
   "outputs": [
    {
     "name": "stdout",
     "output_type": "stream",
     "text": [
      "Probability of female students having major in Accounting is:  0.09\n",
      "Probability of female students having major in CIS is:  0.09\n",
      "Probability of female students having major in Economics/Finance is:  0.21\n",
      "Probability of female students having major in International Business is:  0.12\n",
      "Probability of female students having major in Management is:  0.12\n",
      "Probability of female students having major in some other subject is:  0.09\n",
      "Probability of female students having major in Retailing/Marketing is 0.27\n",
      "Probability of female students who have not decided about their major is 0.0\n"
     ]
    }
   ],
   "source": [
    "print(\"Probability of female students having major in Accounting is: \",round(p_femaleAccounting,2))\n",
    "print(\"Probability of female students having major in CIS is: \",round(p_femaleCIS,2))\n",
    "print(\"Probability of female students having major in Economics/Finance is: \",round(p_femaleEcoFinance,2))\n",
    "print(\"Probability of female students having major in International Business is: \",round(p_femaleintBusiness,2))\n",
    "print(\"Probability of female students having major in Management is: \",round(p_femaleManagement,2))\n",
    "print(\"Probability of female students having major in some other subject is: \",round(p_femaleOther,2))\n",
    "print(\"Probability of female students having major in Retailing/Marketing is\",round(p_femaleRetail,2))\n",
    "print(\"Probability of female students who have not decided about their major is\",round(p_femaleUndecided,2))"
   ]
  },
  {
   "cell_type": "markdown",
   "id": "cbcecd2a",
   "metadata": {},
   "source": [
    "## 2.4. Assume that the sample is a representative of the population of CMSU. Based on the data, answer the following question:"
   ]
  },
  {
   "cell_type": "markdown",
   "id": "bfe7f39a",
   "metadata": {},
   "source": [
    "## 2.4.1. Find the probability That a randomly chosen student is a male and intends to graduate."
   ]
  },
  {
   "cell_type": "code",
   "execution_count": 65,
   "id": "30e3cde7",
   "metadata": {},
   "outputs": [
    {
     "data": {
      "text/html": [
       "<div>\n",
       "<style scoped>\n",
       "    .dataframe tbody tr th:only-of-type {\n",
       "        vertical-align: middle;\n",
       "    }\n",
       "\n",
       "    .dataframe tbody tr th {\n",
       "        vertical-align: top;\n",
       "    }\n",
       "\n",
       "    .dataframe thead th {\n",
       "        text-align: right;\n",
       "    }\n",
       "</style>\n",
       "<table border=\"1\" class=\"dataframe\">\n",
       "  <thead>\n",
       "    <tr style=\"text-align: right;\">\n",
       "      <th>Grad Intention</th>\n",
       "      <th>No</th>\n",
       "      <th>Undecided</th>\n",
       "      <th>Yes</th>\n",
       "      <th>Total</th>\n",
       "    </tr>\n",
       "    <tr>\n",
       "      <th>Gender</th>\n",
       "      <th></th>\n",
       "      <th></th>\n",
       "      <th></th>\n",
       "      <th></th>\n",
       "    </tr>\n",
       "  </thead>\n",
       "  <tbody>\n",
       "    <tr>\n",
       "      <th>Female</th>\n",
       "      <td>9</td>\n",
       "      <td>13</td>\n",
       "      <td>11</td>\n",
       "      <td>33</td>\n",
       "    </tr>\n",
       "    <tr>\n",
       "      <th>Male</th>\n",
       "      <td>3</td>\n",
       "      <td>9</td>\n",
       "      <td>17</td>\n",
       "      <td>29</td>\n",
       "    </tr>\n",
       "    <tr>\n",
       "      <th>Total</th>\n",
       "      <td>12</td>\n",
       "      <td>22</td>\n",
       "      <td>28</td>\n",
       "      <td>62</td>\n",
       "    </tr>\n",
       "  </tbody>\n",
       "</table>\n",
       "</div>"
      ],
      "text/plain": [
       "Grad Intention  No  Undecided  Yes  Total\n",
       "Gender                                   \n",
       "Female           9         13   11     33\n",
       "Male             3          9   17     29\n",
       "Total           12         22   28     62"
      ]
     },
     "execution_count": 65,
     "metadata": {},
     "output_type": "execute_result"
    }
   ],
   "source": [
    "gender_grad"
   ]
  },
  {
   "cell_type": "code",
   "execution_count": 66,
   "id": "83be7cfe",
   "metadata": {},
   "outputs": [],
   "source": [
    "p_maleYesToGrad=gender_grad.loc['Male','Yes']/gender_grad.loc['Total','Total']"
   ]
  },
  {
   "cell_type": "code",
   "execution_count": 67,
   "id": "efb3acc4",
   "metadata": {},
   "outputs": [
    {
     "name": "stdout",
     "output_type": "stream",
     "text": [
      "Probability of male students who intends to Graduate is:  0.27\n"
     ]
    }
   ],
   "source": [
    "print(\"Probability of male students who intends to Graduate is: \",round(p_maleYesToGrad,2))"
   ]
  },
  {
   "cell_type": "markdown",
   "id": "76745fbc",
   "metadata": {},
   "source": [
    "## 2.4.2 Find the probability that a randomly selected student is a female and does NOT have a laptop. "
   ]
  },
  {
   "cell_type": "code",
   "execution_count": 68,
   "id": "6c121723",
   "metadata": {},
   "outputs": [
    {
     "data": {
      "text/html": [
       "<div>\n",
       "<style scoped>\n",
       "    .dataframe tbody tr th:only-of-type {\n",
       "        vertical-align: middle;\n",
       "    }\n",
       "\n",
       "    .dataframe tbody tr th {\n",
       "        vertical-align: top;\n",
       "    }\n",
       "\n",
       "    .dataframe thead th {\n",
       "        text-align: right;\n",
       "    }\n",
       "</style>\n",
       "<table border=\"1\" class=\"dataframe\">\n",
       "  <thead>\n",
       "    <tr style=\"text-align: right;\">\n",
       "      <th>Computer</th>\n",
       "      <th>Desktop</th>\n",
       "      <th>Laptop</th>\n",
       "      <th>Tablet</th>\n",
       "      <th>Total</th>\n",
       "    </tr>\n",
       "    <tr>\n",
       "      <th>Gender</th>\n",
       "      <th></th>\n",
       "      <th></th>\n",
       "      <th></th>\n",
       "      <th></th>\n",
       "    </tr>\n",
       "  </thead>\n",
       "  <tbody>\n",
       "    <tr>\n",
       "      <th>Female</th>\n",
       "      <td>2</td>\n",
       "      <td>29</td>\n",
       "      <td>2</td>\n",
       "      <td>33</td>\n",
       "    </tr>\n",
       "    <tr>\n",
       "      <th>Male</th>\n",
       "      <td>3</td>\n",
       "      <td>26</td>\n",
       "      <td>0</td>\n",
       "      <td>29</td>\n",
       "    </tr>\n",
       "    <tr>\n",
       "      <th>Total</th>\n",
       "      <td>5</td>\n",
       "      <td>55</td>\n",
       "      <td>2</td>\n",
       "      <td>62</td>\n",
       "    </tr>\n",
       "  </tbody>\n",
       "</table>\n",
       "</div>"
      ],
      "text/plain": [
       "Computer  Desktop  Laptop  Tablet  Total\n",
       "Gender                                  \n",
       "Female          2      29       2     33\n",
       "Male            3      26       0     29\n",
       "Total           5      55       2     62"
      ]
     },
     "execution_count": 68,
     "metadata": {},
     "output_type": "execute_result"
    }
   ],
   "source": [
    "gender_comp"
   ]
  },
  {
   "cell_type": "code",
   "execution_count": 69,
   "id": "e7d01dad",
   "metadata": {},
   "outputs": [],
   "source": [
    "femaleWithNoLaptop=(gender_comp.loc['Female','Total'])-(gender_comp.loc['Female','Laptop'])\n",
    "total_students=gender_comp.loc['Total','Total']"
   ]
  },
  {
   "cell_type": "code",
   "execution_count": 70,
   "id": "84b9411d",
   "metadata": {},
   "outputs": [],
   "source": [
    "p_femaleWithNoLaptop=femaleWithNoLaptop/total_students"
   ]
  },
  {
   "cell_type": "code",
   "execution_count": 71,
   "id": "50220697",
   "metadata": {},
   "outputs": [
    {
     "name": "stdout",
     "output_type": "stream",
     "text": [
      "Probability that a randomly selected student is a female and does not have a laptop : 0.06\n"
     ]
    }
   ],
   "source": [
    "print('Probability that a randomly selected student is a female and does not have a laptop :',round(p_femaleWithNoLaptop,2))"
   ]
  },
  {
   "cell_type": "markdown",
   "id": "fe52699f",
   "metadata": {},
   "source": [
    "## 2.5. Assume that the sample is representative of the population of CMSU. Based on the data, answer the following question:"
   ]
  },
  {
   "cell_type": "markdown",
   "id": "a7f27cf0",
   "metadata": {},
   "source": [
    "## 2.5.1. Find the probability that a randomly chosen student is a male or has full-time employment?"
   ]
  },
  {
   "cell_type": "code",
   "execution_count": 72,
   "id": "47609186",
   "metadata": {},
   "outputs": [
    {
     "data": {
      "text/html": [
       "<div>\n",
       "<style scoped>\n",
       "    .dataframe tbody tr th:only-of-type {\n",
       "        vertical-align: middle;\n",
       "    }\n",
       "\n",
       "    .dataframe tbody tr th {\n",
       "        vertical-align: top;\n",
       "    }\n",
       "\n",
       "    .dataframe thead th {\n",
       "        text-align: right;\n",
       "    }\n",
       "</style>\n",
       "<table border=\"1\" class=\"dataframe\">\n",
       "  <thead>\n",
       "    <tr style=\"text-align: right;\">\n",
       "      <th>Employment</th>\n",
       "      <th>Full-Time</th>\n",
       "      <th>Part-Time</th>\n",
       "      <th>Unemployed</th>\n",
       "      <th>Total</th>\n",
       "    </tr>\n",
       "    <tr>\n",
       "      <th>Gender</th>\n",
       "      <th></th>\n",
       "      <th></th>\n",
       "      <th></th>\n",
       "      <th></th>\n",
       "    </tr>\n",
       "  </thead>\n",
       "  <tbody>\n",
       "    <tr>\n",
       "      <th>Female</th>\n",
       "      <td>3</td>\n",
       "      <td>24</td>\n",
       "      <td>6</td>\n",
       "      <td>33</td>\n",
       "    </tr>\n",
       "    <tr>\n",
       "      <th>Male</th>\n",
       "      <td>7</td>\n",
       "      <td>19</td>\n",
       "      <td>3</td>\n",
       "      <td>29</td>\n",
       "    </tr>\n",
       "    <tr>\n",
       "      <th>Total</th>\n",
       "      <td>10</td>\n",
       "      <td>43</td>\n",
       "      <td>9</td>\n",
       "      <td>62</td>\n",
       "    </tr>\n",
       "  </tbody>\n",
       "</table>\n",
       "</div>"
      ],
      "text/plain": [
       "Employment  Full-Time  Part-Time  Unemployed  Total\n",
       "Gender                                             \n",
       "Female              3         24           6     33\n",
       "Male                7         19           3     29\n",
       "Total              10         43           9     62"
      ]
     },
     "execution_count": 72,
     "metadata": {},
     "output_type": "execute_result"
    }
   ],
   "source": [
    "gender_emp"
   ]
  },
  {
   "cell_type": "code",
   "execution_count": 73,
   "id": "c0c7386b",
   "metadata": {},
   "outputs": [
    {
     "name": "stdout",
     "output_type": "stream",
     "text": [
      "Probability that a randomly selected student is a male or has full time employment: 0.52\n"
     ]
    }
   ],
   "source": [
    "p_male=gender_emp.loc['Male','Total']/gender_emp.loc['Total','Total']\n",
    "p_fullTimeEmp=gender_emp.loc['Total','Full-Time']/gender_emp.loc['Total','Total']\n",
    "p_maleFullTimeEmp=gender_emp.loc['Male','Full-Time']/gender_emp.loc['Total','Total']\n",
    "p_maleOrFullTimeEmp=(p_male+p_fullTimeEmp)-p_maleFullTimeEmp\n",
    "print('Probability that a randomly selected student is a male or has full time employment:',round(p_maleOrFullTimeEmp,2))"
   ]
  },
  {
   "cell_type": "markdown",
   "id": "41faaa36",
   "metadata": {},
   "source": [
    "## 2.5.2. Find the conditional probability that given a female student is randomly chosen, she is majoring in international business or management."
   ]
  },
  {
   "cell_type": "code",
   "execution_count": 74,
   "id": "061350a3",
   "metadata": {},
   "outputs": [
    {
     "data": {
      "text/html": [
       "<div>\n",
       "<style scoped>\n",
       "    .dataframe tbody tr th:only-of-type {\n",
       "        vertical-align: middle;\n",
       "    }\n",
       "\n",
       "    .dataframe tbody tr th {\n",
       "        vertical-align: top;\n",
       "    }\n",
       "\n",
       "    .dataframe thead th {\n",
       "        text-align: right;\n",
       "    }\n",
       "</style>\n",
       "<table border=\"1\" class=\"dataframe\">\n",
       "  <thead>\n",
       "    <tr style=\"text-align: right;\">\n",
       "      <th>Major</th>\n",
       "      <th>Accounting</th>\n",
       "      <th>CIS</th>\n",
       "      <th>Economics/Finance</th>\n",
       "      <th>International Business</th>\n",
       "      <th>Management</th>\n",
       "      <th>Other</th>\n",
       "      <th>Retailing/Marketing</th>\n",
       "      <th>Undecided</th>\n",
       "      <th>Total</th>\n",
       "    </tr>\n",
       "    <tr>\n",
       "      <th>Gender</th>\n",
       "      <th></th>\n",
       "      <th></th>\n",
       "      <th></th>\n",
       "      <th></th>\n",
       "      <th></th>\n",
       "      <th></th>\n",
       "      <th></th>\n",
       "      <th></th>\n",
       "      <th></th>\n",
       "    </tr>\n",
       "  </thead>\n",
       "  <tbody>\n",
       "    <tr>\n",
       "      <th>Female</th>\n",
       "      <td>3</td>\n",
       "      <td>3</td>\n",
       "      <td>7</td>\n",
       "      <td>4</td>\n",
       "      <td>4</td>\n",
       "      <td>3</td>\n",
       "      <td>9</td>\n",
       "      <td>0</td>\n",
       "      <td>33</td>\n",
       "    </tr>\n",
       "    <tr>\n",
       "      <th>Male</th>\n",
       "      <td>4</td>\n",
       "      <td>1</td>\n",
       "      <td>4</td>\n",
       "      <td>2</td>\n",
       "      <td>6</td>\n",
       "      <td>4</td>\n",
       "      <td>5</td>\n",
       "      <td>3</td>\n",
       "      <td>29</td>\n",
       "    </tr>\n",
       "    <tr>\n",
       "      <th>Total</th>\n",
       "      <td>7</td>\n",
       "      <td>4</td>\n",
       "      <td>11</td>\n",
       "      <td>6</td>\n",
       "      <td>10</td>\n",
       "      <td>7</td>\n",
       "      <td>14</td>\n",
       "      <td>3</td>\n",
       "      <td>62</td>\n",
       "    </tr>\n",
       "  </tbody>\n",
       "</table>\n",
       "</div>"
      ],
      "text/plain": [
       "Major   Accounting  CIS  Economics/Finance  International Business  \\\n",
       "Gender                                                               \n",
       "Female           3    3                  7                       4   \n",
       "Male             4    1                  4                       2   \n",
       "Total            7    4                 11                       6   \n",
       "\n",
       "Major   Management  Other  Retailing/Marketing  Undecided  Total  \n",
       "Gender                                                            \n",
       "Female           4      3                    9          0     33  \n",
       "Male             6      4                    5          3     29  \n",
       "Total           10      7                   14          3     62  "
      ]
     },
     "execution_count": 74,
     "metadata": {},
     "output_type": "execute_result"
    }
   ],
   "source": [
    "gender_major"
   ]
  },
  {
   "cell_type": "code",
   "execution_count": 75,
   "id": "e2ded5ca",
   "metadata": {},
   "outputs": [
    {
     "name": "stdout",
     "output_type": "stream",
     "text": [
      "Probability that given a female student is randomly chosen, she is majoring in international business or management 0.24\n"
     ]
    }
   ],
   "source": [
    "p_femaleIntBus=gender_major.loc['Female','International Business']/gender_major.loc['Female','Total']\n",
    "p_femaleMgmt=gender_major.loc['Female','Management']/gender_major.loc['Female','Total']\n",
    "p_femaleIntBusOrMgmt=p_femaleIntBus+p_femaleMgmt\n",
    "print('Probability that given a female student is randomly chosen, she is majoring in international business or management',round(p_femaleIntBusOrMgmt,2))"
   ]
  },
  {
   "cell_type": "markdown",
   "id": "46c6c9b8",
   "metadata": {},
   "source": [
    "## 2.6.  Construct a contingency table of Gender and Intent to Graduate at 2 levels (Yes/No). The Undecided students are not considered now and the table is a 2x2 table. Do you think the graduate intention and being female are independent events?"
   ]
  },
  {
   "cell_type": "code",
   "execution_count": 76,
   "id": "f5d20817",
   "metadata": {},
   "outputs": [],
   "source": [
    "#Filtering out the value Undecided from column Grad Intention\n",
    "grad_intent=survey_df[survey_df['Grad Intention'] !='Undecided']"
   ]
  },
  {
   "cell_type": "code",
   "execution_count": 77,
   "id": "6c2d54d4",
   "metadata": {},
   "outputs": [
    {
     "data": {
      "text/html": [
       "<div>\n",
       "<style scoped>\n",
       "    .dataframe tbody tr th:only-of-type {\n",
       "        vertical-align: middle;\n",
       "    }\n",
       "\n",
       "    .dataframe tbody tr th {\n",
       "        vertical-align: top;\n",
       "    }\n",
       "\n",
       "    .dataframe thead th {\n",
       "        text-align: right;\n",
       "    }\n",
       "</style>\n",
       "<table border=\"1\" class=\"dataframe\">\n",
       "  <thead>\n",
       "    <tr style=\"text-align: right;\">\n",
       "      <th>Grad Intention</th>\n",
       "      <th>No</th>\n",
       "      <th>Yes</th>\n",
       "      <th>Total</th>\n",
       "    </tr>\n",
       "    <tr>\n",
       "      <th>Gender</th>\n",
       "      <th></th>\n",
       "      <th></th>\n",
       "      <th></th>\n",
       "    </tr>\n",
       "  </thead>\n",
       "  <tbody>\n",
       "    <tr>\n",
       "      <th>Female</th>\n",
       "      <td>9</td>\n",
       "      <td>11</td>\n",
       "      <td>20</td>\n",
       "    </tr>\n",
       "    <tr>\n",
       "      <th>Male</th>\n",
       "      <td>3</td>\n",
       "      <td>17</td>\n",
       "      <td>20</td>\n",
       "    </tr>\n",
       "    <tr>\n",
       "      <th>Total</th>\n",
       "      <td>12</td>\n",
       "      <td>28</td>\n",
       "      <td>40</td>\n",
       "    </tr>\n",
       "  </tbody>\n",
       "</table>\n",
       "</div>"
      ],
      "text/plain": [
       "Grad Intention  No  Yes  Total\n",
       "Gender                        \n",
       "Female           9   11     20\n",
       "Male             3   17     20\n",
       "Total           12   28     40"
      ]
     },
     "execution_count": 77,
     "metadata": {},
     "output_type": "execute_result"
    }
   ],
   "source": [
    "gender_gradIntent = pd.crosstab(grad_intent['Gender'],grad_intent['Grad Intention'])\n",
    "gender_gradIntent.loc['Total'] = gender_gradIntent.apply(lambda col:np.sum(col),axis=0)\n",
    "gender_gradIntent['Total'] = gender_gradIntent.apply(lambda row:np.sum(row),axis=1)\n",
    "gender_gradIntent"
   ]
  },
  {
   "cell_type": "code",
   "execution_count": 78,
   "id": "67059923",
   "metadata": {},
   "outputs": [
    {
     "name": "stdout",
     "output_type": "stream",
     "text": [
      "Graduate intention and being female are not independent events\n"
     ]
    }
   ],
   "source": [
    "#For two events to be independent , p(A and B) should be equal to P(A)*P(B).\n",
    "p_female=gender_gradIntent.loc['Female','Total']/gender_gradIntent.loc['Total','Total']\n",
    "p_yesGradIntent=gender_gradIntent.loc['Total','Yes']/gender_gradIntent.loc['Total','Total']\n",
    "p_femaleAndYesGradIntent=gender_gradIntent.loc['Female','Yes']/gender_gradIntent.loc['Total','Total']\n",
    "check=p_female*p_yesGradIntent\n",
    "if (check==p_femaleAndYesGradIntent):\n",
    "    print('Graduate intention and being female are independent events')\n",
    "else:\n",
    "    print('Graduate intention and being female are not independent events')"
   ]
  },
  {
   "cell_type": "markdown",
   "id": "b0d89595",
   "metadata": {},
   "source": [
    "## 2.7. Note that there are four numerical (continuous) variables in the data set, GPA, Salary, Spending, and Text Messages."
   ]
  },
  {
   "cell_type": "markdown",
   "id": "be32021c",
   "metadata": {},
   "source": [
    "## 2.7.1. If a student is chosen randomly, what is the probability that his/her GPA is less than 3?"
   ]
  },
  {
   "cell_type": "code",
   "execution_count": 79,
   "id": "da0af95b",
   "metadata": {},
   "outputs": [
    {
     "name": "stdout",
     "output_type": "stream",
     "text": [
      "Probability that GPA of a student is less than 3 is 0.27\n"
     ]
    }
   ],
   "source": [
    "total_students=survey_df.shape[0]\n",
    "studentsWithGPALessThan3=survey_df[survey_df['GPA']<3].shape[0]\n",
    "p_studentsWithGPALessThan3=studentsWithGPALessThan3/total_students\n",
    "print('Probability that GPA of a student is less than 3 is',round(p_studentsWithGPALessThan3,2))"
   ]
  },
  {
   "cell_type": "markdown",
   "id": "e21c5898",
   "metadata": {},
   "source": [
    "## 2.7.2. Find the conditional probability that a randomly selected male earns 50 or more. Find the conditional probability that a randomly selected female earns 50 or more."
   ]
  },
  {
   "cell_type": "code",
   "execution_count": 80,
   "id": "41b9f39a",
   "metadata": {},
   "outputs": [
    {
     "name": "stdout",
     "output_type": "stream",
     "text": [
      "Conditional probability that a randomly selected male earns 50 or more is: 0.48\n",
      "Conditional probability that a randomly selected female earns 50 or more is: 0.55\n"
     ]
    }
   ],
   "source": [
    "total_male_students=survey_df[survey_df['Gender']=='Male'].shape[0]\n",
    "total_female_students=survey_df[survey_df['Gender']=='Female'].shape[0]\n",
    "male_earning_moreThan50=survey_df[(survey_df['Gender']=='Male') & (survey_df['Salary']>=50)].shape[0]\n",
    "female_earning_moreThan50=survey_df[(survey_df['Gender']=='Female') & (survey_df['Salary']>=50)].shape[0]\n",
    "p_male_salaryMoreThan50=male_earning_moreThan50/total_male_students\n",
    "p_female_salaryMoreThan50=female_earning_moreThan50/total_female_students\n",
    "print('Conditional probability that a randomly selected male earns 50 or more is:',round(p_male_salaryMoreThan50,2))\n",
    "print('Conditional probability that a randomly selected female earns 50 or more is:',round(p_female_salaryMoreThan50,2))"
   ]
  },
  {
   "cell_type": "markdown",
   "id": "dd4b1b32",
   "metadata": {},
   "source": [
    "## 2.8. Note that there are four numerical (continuous) variables in the data set, GPA, Salary, Spending, and Text Messages. For each of them comment whether they follow a normal distribution. Write a note summarizing your conclusions."
   ]
  },
  {
   "cell_type": "markdown",
   "id": "50c2453d",
   "metadata": {},
   "source": [
    "To check if the numerical continuous variables of the survey dataset  follow a normal distribution or not, we will first plot the distplot , so that we can see the KDE of the particular variable"
   ]
  },
  {
   "cell_type": "code",
   "execution_count": 81,
   "id": "e64dfc14",
   "metadata": {},
   "outputs": [
    {
     "name": "stderr",
     "output_type": "stream",
     "text": [
      "C:\\Users\\ikrit\\anaconda3\\lib\\site-packages\\seaborn\\distributions.py:2619: FutureWarning: `distplot` is a deprecated function and will be removed in a future version. Please adapt your code to use either `displot` (a figure-level function with similar flexibility) or `histplot` (an axes-level function for histograms).\n",
      "  warnings.warn(msg, FutureWarning)\n",
      "C:\\Users\\ikrit\\anaconda3\\lib\\site-packages\\seaborn\\distributions.py:2619: FutureWarning: `distplot` is a deprecated function and will be removed in a future version. Please adapt your code to use either `displot` (a figure-level function with similar flexibility) or `histplot` (an axes-level function for histograms).\n",
      "  warnings.warn(msg, FutureWarning)\n",
      "C:\\Users\\ikrit\\anaconda3\\lib\\site-packages\\seaborn\\distributions.py:2619: FutureWarning: `distplot` is a deprecated function and will be removed in a future version. Please adapt your code to use either `displot` (a figure-level function with similar flexibility) or `histplot` (an axes-level function for histograms).\n",
      "  warnings.warn(msg, FutureWarning)\n",
      "C:\\Users\\ikrit\\anaconda3\\lib\\site-packages\\seaborn\\distributions.py:2619: FutureWarning: `distplot` is a deprecated function and will be removed in a future version. Please adapt your code to use either `displot` (a figure-level function with similar flexibility) or `histplot` (an axes-level function for histograms).\n",
      "  warnings.warn(msg, FutureWarning)\n"
     ]
    },
    {
     "data": {
      "image/png": "[encoded data removed]",
      "text/plain": [
       "<Figure size 720x864 with 4 Axes>"
      ]
     },
     "metadata": {},
     "output_type": "display_data"
    }
   ],
   "source": [
    "plt.figure(figsize=(10,12))\n",
    "plt.subplot(2,2,1)\n",
    "sns.distplot(survey_df['GPA'])\n",
    "plt.subplot(2,2,2)\n",
    "sns.distplot(survey_df['Salary'])\n",
    "plt.subplot(2,2,3)\n",
    "sns.distplot(survey_df['Spending'])\n",
    "plt.subplot(2,2,4)\n",
    "sns.distplot(survey_df['Text Messages'])\n",
    "plt.show()"
   ]
  },
  {
   "cell_type": "markdown",
   "id": "28d21784",
   "metadata": {},
   "source": [
    "From the above plots, we can see that Salary and GPA are almost normally distributed but Spendings and Text messages seems to be somewhat rightwards skewed.\n",
    "To confirm we will now test if the mean , median and mode of these variables lie at the same place or not. If they lie at the same place, the variable should be normally distributed , else not."
   ]
  },
  {
   "cell_type": "code",
   "execution_count": 82,
   "id": "d5a589f0",
   "metadata": {},
   "outputs": [
    {
     "name": "stdout",
     "output_type": "stream",
     "text": [
      "Mean of GPA : 3.129032258064516\n",
      "Median of GPA : 3.1500000000000004\n",
      "Mode of GPA : 0    3.0\n",
      "1    3.1\n",
      "2    3.4\n",
      "dtype: float64\n"
     ]
    }
   ],
   "source": [
    "print('Mean of GPA :',survey_df['GPA'].mean())\n",
    "print('Median of GPA :',survey_df['GPA'].median())\n",
    "print('Mode of GPA :',survey_df['GPA'].mode())"
   ]
  },
  {
   "cell_type": "code",
   "execution_count": 83,
   "id": "6e7a460c",
   "metadata": {},
   "outputs": [
    {
     "name": "stdout",
     "output_type": "stream",
     "text": [
      "Mean of Salary : 48.54838709677419\n",
      "Median of Salary : 50.0\n",
      "Mode of Salary : 0    40.0\n",
      "dtype: float64\n"
     ]
    }
   ],
   "source": [
    "print('Mean of Salary :',survey_df['Salary'].mean())\n",
    "print('Median of Salary :',survey_df['Salary'].median())\n",
    "print('Mode of Salary :',survey_df['Salary'].mode())"
   ]
  },
  {
   "cell_type": "code",
   "execution_count": 84,
   "id": "0f652236",
   "metadata": {},
   "outputs": [
    {
     "name": "stdout",
     "output_type": "stream",
     "text": [
      "Mean of Spending : 482.01612903225805\n",
      "Median of Spending : 500.0\n",
      "Mode of Spending : 0    500\n",
      "dtype: int64\n"
     ]
    }
   ],
   "source": [
    "print('Mean of Spending :',survey_df['Spending'].mean())\n",
    "print('Median of Spending :',survey_df['Spending'].median())\n",
    "print('Mode of Spending :',survey_df['Spending'].mode())"
   ]
  },
  {
   "cell_type": "code",
   "execution_count": 85,
   "id": "1a46718e",
   "metadata": {},
   "outputs": [
    {
     "name": "stdout",
     "output_type": "stream",
     "text": [
      "Mean of Text Messages : 246.20967741935485\n",
      "Median of Text Messages : 200.0\n",
      "Mode of Text Messages : 0    300\n",
      "dtype: int64\n"
     ]
    }
   ],
   "source": [
    "print('Mean of Text Messages :',survey_df['Text Messages'].mean())\n",
    "print('Median of Text Messages :',survey_df['Text Messages'].median())\n",
    "print('Mode of Text Messages :',survey_df['Text Messages'].mode())"
   ]
  },
  {
   "cell_type": "markdown",
   "id": "5b8fdeb3",
   "metadata": {},
   "source": [
    "From the above calculations, we see here that mean ,median and mode of GPA is very close, but for Salary, Spending and Text Messages we can't say the same. "
   ]
  },
  {
   "cell_type": "markdown",
   "id": "f3ec9309",
   "metadata": {},
   "source": [
    "To confirm the above inferences, we will now check the skewness factor and also do the Shapiro test which will give us a confirmation on the distribution type of these numeric variables."
   ]
  },
  {
   "cell_type": "code",
   "execution_count": 86,
   "id": "14e4a5d0",
   "metadata": {},
   "outputs": [
    {
     "name": "stdout",
     "output_type": "stream",
     "text": [
      "Skewness factor of GPA is:  -0.3146000894506981\n",
      "Skewness factor of Salary is:  0.5347008436225946\n",
      "Skewness factor of Spending is:  1.5859147414045331\n",
      "Skewness factor of Text Messages is:  1.2958079731054333\n"
     ]
    }
   ],
   "source": [
    "print('Skewness factor of GPA is: ',survey_df['GPA'].skew())\n",
    "print('Skewness factor of Salary is: ',survey_df['Salary'].skew())\n",
    "print('Skewness factor of Spending is: ',survey_df['Spending'].skew())\n",
    "print('Skewness factor of Text Messages is: ',survey_df['Text Messages'].skew())"
   ]
  },
  {
   "cell_type": "code",
   "execution_count": 87,
   "id": "047818ec",
   "metadata": {},
   "outputs": [
    {
     "name": "stdout",
     "output_type": "stream",
     "text": [
      "Shapiro test p_value of GPA is 0.11204\n",
      "Shapiro test p_value of Salary is 0.02800\n",
      "Shapiro test p_value of Spending is 0.00002\n",
      "Shapiro test p_value of Text Messages is 0.00000\n"
     ]
    }
   ],
   "source": [
    "list_var=['GPA','Salary','Spending','Text Messages']\n",
    "for var in list_var:\n",
    "    statistics,p_value=stats.shapiro(survey_df[var])\n",
    "    print(\"Shapiro test p_value of \"+var+\" is {:.5f}\".format(p_value))"
   ]
  },
  {
   "cell_type": "markdown",
   "id": "8c11ae9f",
   "metadata": {},
   "source": [
    "From the above calculations for skewness factor and shapiro test, we see that skewness of only GPA lies in the range of -0.5 to 0.5 which proves it to be normally distributed.\n",
    "Also, the result of shapiro test shows us that only GPA has its p_value greater than the significance level, i.e, 0.05. So out of all the four numeric variables, only GPA is normally distributed and other variables are slightly skewed."
   ]
  },
  {
   "cell_type": "markdown",
   "id": "827eb0fb",
   "metadata": {},
   "source": [
    "## Problem 3: An important quality characteristic used by the manufacturers of ABC asphalt shingles is the amount of moisture the shingles contain when they are packaged. Customers may feel that they have purchased a product lacking in quality if they find moisture and wet shingles inside the packaging.   In some cases, excessive moisture can cause the granules attached to the shingles for texture and coloring purposes to fall off the shingles resulting in appearance problems. To monitor the amount of moisture present, the company conducts moisture tests. A shingle is weighed and then dried. The shingle is then reweighed, and based on the amount of moisture taken out of the product, the pounds of moisture per 100 square feet are calculated. The company would like to show that the mean moisture content is less than 0.35 pounds per 100 square feet."
   ]
  },
  {
   "cell_type": "code",
   "execution_count": 88,
   "id": "d164d372",
   "metadata": {},
   "outputs": [],
   "source": [
    "shingles_df=pd.read_csv('A+&+B+shingles.csv')"
   ]
  },
  {
   "cell_type": "code",
   "execution_count": 89,
   "id": "1aa73a79",
   "metadata": {},
   "outputs": [
    {
     "data": {
      "text/html": [
       "<div>\n",
       "<style scoped>\n",
       "    .dataframe tbody tr th:only-of-type {\n",
       "        vertical-align: middle;\n",
       "    }\n",
       "\n",
       "    .dataframe tbody tr th {\n",
       "        vertical-align: top;\n",
       "    }\n",
       "\n",
       "    .dataframe thead th {\n",
       "        text-align: right;\n",
       "    }\n",
       "</style>\n",
       "<table border=\"1\" class=\"dataframe\">\n",
       "  <thead>\n",
       "    <tr style=\"text-align: right;\">\n",
       "      <th></th>\n",
       "      <th>A</th>\n",
       "      <th>B</th>\n",
       "    </tr>\n",
       "  </thead>\n",
       "  <tbody>\n",
       "    <tr>\n",
       "      <th>0</th>\n",
       "      <td>0.44</td>\n",
       "      <td>0.14</td>\n",
       "    </tr>\n",
       "    <tr>\n",
       "      <th>1</th>\n",
       "      <td>0.61</td>\n",
       "      <td>0.15</td>\n",
       "    </tr>\n",
       "    <tr>\n",
       "      <th>2</th>\n",
       "      <td>0.47</td>\n",
       "      <td>0.31</td>\n",
       "    </tr>\n",
       "    <tr>\n",
       "      <th>3</th>\n",
       "      <td>0.30</td>\n",
       "      <td>0.16</td>\n",
       "    </tr>\n",
       "    <tr>\n",
       "      <th>4</th>\n",
       "      <td>0.15</td>\n",
       "      <td>0.37</td>\n",
       "    </tr>\n",
       "  </tbody>\n",
       "</table>\n",
       "</div>"
      ],
      "text/plain": [
       "      A     B\n",
       "0  0.44  0.14\n",
       "1  0.61  0.15\n",
       "2  0.47  0.31\n",
       "3  0.30  0.16\n",
       "4  0.15  0.37"
      ]
     },
     "execution_count": 89,
     "metadata": {},
     "output_type": "execute_result"
    }
   ],
   "source": [
    "shingles_df.head()"
   ]
  },
  {
   "cell_type": "markdown",
   "id": "fe96ec46",
   "metadata": {},
   "source": [
    "## 3.1 Do you think there is evidence that means moisture contents in both types of shingles are within the permissible limits? State your conclusions clearly showing all steps."
   ]
  },
  {
   "cell_type": "markdown",
   "id": "6fedcf1a",
   "metadata": {},
   "source": [
    "## Step1: Defining the null and alternative hypothesis\n",
    "> ## H0: mean_moisture_content<= 0.35 pounds per 100 square feet (Null Hypothesis)\n",
    "> ## H1: mean_moisture_content> 0.35 pounds per 100 square feet (Alternative Hypothesis)"
   ]
  },
  {
   "cell_type": "markdown",
   "id": "b2fb0bcf",
   "metadata": {},
   "source": [
    "## Step2: Defining the significance level(alpha)\n",
    "> ## alpha=0.05 (Here, we are taking the default value of alpha i.e., 5% significance level as it is not mentioned in the problem statement)"
   ]
  },
  {
   "cell_type": "markdown",
   "id": "94906869",
   "metadata": {},
   "source": [
    "## Step3: Selecting Test Statistics\n",
    "> ### We are testing hypothesis for two types of Shingles separately  and as per the hypothesis statements and given data one sample T-Test will be used. It is a one tailed test ( Left direction). Since, population standard deviation value is not known we are not considering normal distribution test."
   ]
  },
  {
   "cell_type": "markdown",
   "id": "4a338eba",
   "metadata": {},
   "source": [
    "## Step4: Compute p-value and T-statistics"
   ]
  },
  {
   "cell_type": "code",
   "execution_count": 90,
   "id": "93c00ee1",
   "metadata": {},
   "outputs": [],
   "source": [
    "from scipy.stats import ttest_1samp"
   ]
  },
  {
   "cell_type": "markdown",
   "id": "5039a110",
   "metadata": {},
   "source": [
    "> ## scipy.stats.ttest_1samp calculates the t test for the mean of one sample given the sample observations and the expected value in the null hypothesis. This function returns t statistic and the two-tailed p value"
   ]
  },
  {
   "cell_type": "code",
   "execution_count": 91,
   "id": "bb1dca83",
   "metadata": {},
   "outputs": [
    {
     "name": "stdout",
     "output_type": "stream",
     "text": [
      "One Sample T-Test Results For Type A Shingles\n",
      "Test_Statistics_A :-1.4735046253382782, P_Value_A: 0.9252236685509249\n"
     ]
    }
   ],
   "source": [
    "# For Type A Shingles \n",
    "n = 36\n",
    "mu = 0.35  # Hypothetical Mean\n",
    "x_bar_A = shingles_df['A'].mean() # Sample Mean\n",
    "std_A = shingles_df['A'].std() # Sample Standard Deviation\n",
    "dof = n-1\n",
    "t_statistics_A,p_value_A = ttest_1samp(shingles_df['A'],mu,alternative='greater')\n",
    "print(\"One Sample T-Test Results For Type A Shingles\")\n",
    "print(\"Test_Statistics_A :{0}, P_Value_A: {1}\".format(t_statistics_A,p_value_A))    #Here we get p_value for two tailed t Test "
   ]
  },
  {
   "cell_type": "code",
   "execution_count": 92,
   "id": "e927db70",
   "metadata": {},
   "outputs": [
    {
     "name": "stdout",
     "output_type": "stream",
     "text": [
      "One Sample T-Test Results For Type B Shingles\n",
      "Test_Statistics_B :-3.1003313069986995, P_Value_B: 0.9979095225996808\n"
     ]
    }
   ],
   "source": [
    "# For Type B Shingles\n",
    "# There are null values in data set we wil clean data first\n",
    "shingles_df_B = shingles_df['B'].dropna()\n",
    "\n",
    "type_b_observations = shingles_df_B.shape[0]\n",
    "x_bar_B = shingles_df_B.mean() # Sample Mean\n",
    "std_B = shingles_df_B.std() # Sample Standard Deviation\n",
    "\n",
    "t_statistics_B,p_value_B = ttest_1samp(shingles_df_B,mu,alternative='greater')\n",
    "print(\"One Sample T-Test Results For Type B Shingles\")\n",
    "print(\"Test_Statistics_B :{0}, P_Value_B: {1}\".format(t_statistics_B,p_value_B))    #Here we get p_value for two tailed t Test so for one tailed test we have to divide balue by 2 \n",
    "\n"
   ]
  },
  {
   "cell_type": "markdown",
   "id": "ad9540f9",
   "metadata": {},
   "source": [
    "## Step5: Either accept or reject Null Hypothesis based on the value of p"
   ]
  },
  {
   "cell_type": "code",
   "execution_count": 93,
   "id": "62e1c9c3",
   "metadata": {},
   "outputs": [
    {
     "name": "stdout",
     "output_type": "stream",
     "text": [
      "Level of Significance 0.05\n",
      "\n",
      "For Type A Shingles\n",
      "We fail to reject null hyopthesis since P Value is greater than 5% Level of Significance\n",
      "\n",
      "For Type B Shingles\n",
      "We fail to reject null hypothesis  since P Value is greater than 5% Level of Significance\n"
     ]
    }
   ],
   "source": [
    "alpha = 0.05\n",
    "print(\"Level of Significance\",alpha)\n",
    "print(\"\\nFor Type A Shingles\")\n",
    "if(p_value_A>alpha):\n",
    "    print(\"We fail to reject null hyopthesis since P Value is greater than 5% Level of Significance\")\n",
    "else:\n",
    "     print(\"We reject null hyopthesis since P Value is less than 5% Level of Significance\")\n",
    "        \n",
    "print(\"\\nFor Type B Shingles\")\n",
    "if(p_value_B>alpha):\n",
    "    print(\"We fail to reject null hypothesis  since P Value is greater than 5% Level of Significance\")\n",
    "else:\n",
    "     print(\"We reject null hypothesis  since P Value is less than 5% Level of Significance\")"
   ]
  },
  {
   "cell_type": "markdown",
   "id": "035c1bd5",
   "metadata": {},
   "source": [
    "## Step 6 Conclusion\n",
    "> ## Type A Shingles\n",
    ">> ## From the hypothesis test, we see that we do not have enough evidence to reject null hypothesis at 95% confidence level, which means that mean moisture content of Type A shingle is less than or equal to 0.35 pounds per 100 square feet.\n",
    ">\n",
    "> ## Type B Shingles\n",
    ">> ## From the hypothesis test, we see that we do not have enough evidence to reject null hypothesis at 95% confidence level, which means that mean moisture content of Type B shingle is less than or equal to 0.35 pounds per 100 square feet."
   ]
  },
  {
   "cell_type": "markdown",
   "id": "1bc39e02",
   "metadata": {},
   "source": [
    "## 3.2 Do you think that the population mean for shingles A and B are equal? Form the hypothesis and conduct the test of the hypothesis. What assumption do you need to check before the test for equality of means is performed?"
   ]
  },
  {
   "cell_type": "markdown",
   "id": "2fefcbf9",
   "metadata": {},
   "source": [
    "> ## We will be performing the two sample t-test.\n",
    "> ## Assumptions to perform the two sample T-test are:\n",
    ">>## - The samples for Type A shingle and Type b shingle are independent of one another\n",
    ">>## - Data for each type of shingle is obtained by random sampling from the population\n",
    ">>## - The populations from which the data in each group is taken must is normally distributed"
   ]
  },
  {
   "cell_type": "markdown",
   "id": "4a9156b5",
   "metadata": {},
   "source": [
    "## Step1: Defining the null and alternative hypothesis\n",
    "> ## H0: mu_A=mu_B i.e, population mean of type A shingle= population mean of Type b shingle (Null Hypothesis)\n",
    "> ## H1: mu_A!=mu_B i.e, population mean of type A shingle!= population mean of Type b shingle (Alternative Hypothesis)"
   ]
  },
  {
   "cell_type": "markdown",
   "id": "da7431ed",
   "metadata": {},
   "source": [
    "## Step2: Defining the significance level(alpha)\n",
    "> ## alpha=0.05 (Here, we are taking the default value of alpha i.e., 5% significance level as it is not mentioned in the problem statement)"
   ]
  },
  {
   "cell_type": "markdown",
   "id": "9675c0dc",
   "metadata": {},
   "source": [
    "## Step 3 - Selecting Test Statistics\n",
    "> ### In This problem we have to compare the population means of Two  Independent Shingles Type i.e. Type A and Type B. So we will make use of Two Independent Sample T-Test. "
   ]
  },
  {
   "cell_type": "markdown",
   "id": "31fcbecc",
   "metadata": {},
   "source": [
    "## Step 4 Compute P value and T-Statistics\n",
    "> ## We use the scipy.stats.ttest_ind to calculate the t-test for the population means of TWO INDEPENDENT samples of types of  Shingles given the two sample observations. This function returns t statistic and two-tailed p value.\n",
    "> ## This is a two-sided test for the null hypothesis that 2 independent samples have identical population means (expected) values. This test assumes that the populations have identical variances."
   ]
  },
  {
   "cell_type": "code",
   "execution_count": 94,
   "id": "f1807f06",
   "metadata": {},
   "outputs": [],
   "source": [
    "from scipy.stats import ttest_ind"
   ]
  },
  {
   "cell_type": "code",
   "execution_count": 95,
   "id": "db4027c1",
   "metadata": {},
   "outputs": [
    {
     "name": "stdout",
     "output_type": "stream",
     "text": [
      "Two Independent Samples T-Test Results \n",
      "\n",
      "T_statistics:- 1.289628271966112\n",
      "P_value:- 0.2017496571835328\n"
     ]
    }
   ],
   "source": [
    "t_statistic_two_sample, p_value_two_sample  = ttest_ind(shingles_df['A'],shingles_df['B'].dropna())\n",
    "print(\"Two Independent Samples T-Test Results \\n\")\n",
    "print('T_statistics:-',t_statistic_two_sample)    \n",
    "print('P_value:-',p_value_two_sample)    "
   ]
  },
  {
   "cell_type": "markdown",
   "id": "629e46ba",
   "metadata": {},
   "source": [
    "## Step5: Either accept or reject Null Hypothesis based on the value of p"
   ]
  },
  {
   "cell_type": "code",
   "execution_count": 96,
   "id": "b53ac653",
   "metadata": {},
   "outputs": [
    {
     "name": "stdout",
     "output_type": "stream",
     "text": [
      "Level of Significance 0.05\n",
      "We don't have enough evidences to reject null hypothesis  since P Value is greater than 5% Level of Significance\n"
     ]
    }
   ],
   "source": [
    "alpha = 0.05\n",
    "print(\"Level of Significance\",alpha)\n",
    "\n",
    "if(p_value_two_sample>alpha):\n",
    "    print(\"We don't have enough evidences to reject null hypothesis  since P Value is greater than 5% Level of Significance\")\n",
    "else:\n",
    "     print(\"We have enough evidences to reject null hypothesis  since P Value is less than 5% Level of Significance\")\n"
   ]
  },
  {
   "cell_type": "markdown",
   "id": "13e6da02",
   "metadata": {},
   "source": [
    "## Step 6 Conclusion\n",
    ">> ## Basis the hypothesis test performance for the given samples of Type A and Type B Shingles  at 95% Confidence level  we failed to reject the null hypothesis i.e. There are not enough evidence to prove that population  mean moisture content of type A and type B are not equal. So population mean for sample data of type A and Type B Shingles are equal"
   ]
  },
  {
   "cell_type": "code",
   "execution_count": null,
   "id": "567dda09",
   "metadata": {},
   "outputs": [],
   "source": []
  }
 ],
 "metadata": {
  "kernelspec": {
   "display_name": "Python 3 (ipykernel)",
   "language": "python",
   "name": "python3"
  },
  "language_info": {
   "codemirror_mode": {
    "name": "ipython",
    "version": 3
   },
   "file_extension": ".py",
   "mimetype": "text/x-python",
   "name": "python",
   "nbconvert_exporter": "python",
   "pygments_lexer": "ipython3",
   "version": "3.9.7"
  }
 },
 "nbformat": 4,
 "nbformat_minor": 5
}
